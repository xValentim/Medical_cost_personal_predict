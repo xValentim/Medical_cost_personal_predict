{
 "cells": [
  {
   "cell_type": "code",
   "execution_count": 1,
   "id": "aad86172",
   "metadata": {},
   "outputs": [],
   "source": [
    "import pandas as pd\n",
    "import numpy as np\n",
    "import matplotlib.pyplot as plt"
   ]
  },
  {
   "cell_type": "markdown",
   "id": "4eaf05cd",
   "metadata": {},
   "source": [
    "## 1) Load dataset"
   ]
  },
  {
   "cell_type": "code",
   "execution_count": 2,
   "id": "d1cde6ca",
   "metadata": {},
   "outputs": [],
   "source": [
    "df = pd.read_csv('insurance.csv')"
   ]
  },
  {
   "cell_type": "code",
   "execution_count": 3,
   "id": "add93576",
   "metadata": {
    "scrolled": true
   },
   "outputs": [
    {
     "data": {
      "text/plain": [
       "age         0\n",
       "sex         0\n",
       "bmi         0\n",
       "children    0\n",
       "smoker      0\n",
       "region      0\n",
       "charges     0\n",
       "dtype: int64"
      ]
     },
     "execution_count": 3,
     "metadata": {},
     "output_type": "execute_result"
    }
   ],
   "source": [
    "# Check if exists na data\n",
    "df.isna().sum()"
   ]
  },
  {
   "cell_type": "code",
   "execution_count": 4,
   "id": "f0bff133",
   "metadata": {},
   "outputs": [
    {
     "data": {
      "text/plain": [
       "(1338, 7)"
      ]
     },
     "execution_count": 4,
     "metadata": {},
     "output_type": "execute_result"
    }
   ],
   "source": [
    "df.shape"
   ]
  },
  {
   "cell_type": "markdown",
   "id": "15c0d5ef",
   "metadata": {},
   "source": [
    "## 2) Análise exploratória\n",
    "Vamos entender melhor as features do dataset"
   ]
  },
  {
   "cell_type": "code",
   "execution_count": 5,
   "id": "3c33a554",
   "metadata": {},
   "outputs": [
    {
     "data": {
      "text/plain": [
       "Index(['age', 'sex', 'bmi', 'children', 'smoker', 'region', 'charges'], dtype='object')"
      ]
     },
     "execution_count": 5,
     "metadata": {},
     "output_type": "execute_result"
    }
   ],
   "source": [
    "df.columns"
   ]
  },
  {
   "cell_type": "markdown",
   "id": "ae40445a",
   "metadata": {},
   "source": [
    "Antes de continuar a análise, vamos encontrar a sqrt(n) (raiz do numero de amostras)"
   ]
  },
  {
   "cell_type": "code",
   "execution_count": 6,
   "id": "43acee29",
   "metadata": {},
   "outputs": [],
   "source": [
    "k = df.shape[0] ** 0.5\n",
    "k = round(k)"
   ]
  },
  {
   "cell_type": "markdown",
   "id": "524962ac",
   "metadata": {},
   "source": [
    "### age"
   ]
  },
  {
   "cell_type": "code",
   "execution_count": 7,
   "id": "265ce44d",
   "metadata": {},
   "outputs": [
    {
     "data": {
      "text/plain": [
       "count    1338.000000\n",
       "mean       39.207025\n",
       "std        14.049960\n",
       "min        18.000000\n",
       "25%        27.000000\n",
       "50%        39.000000\n",
       "75%        51.000000\n",
       "max        64.000000\n",
       "Name: age, dtype: float64"
      ]
     },
     "execution_count": 7,
     "metadata": {},
     "output_type": "execute_result"
    }
   ],
   "source": [
    "df['age'].describe()"
   ]
  },
  {
   "cell_type": "code",
   "execution_count": 8,
   "id": "cdfedb76",
   "metadata": {},
   "outputs": [
    {
     "data": {
      "text/plain": [
       "18    0.051570\n",
       "19    0.050822\n",
       "50    0.021674\n",
       "51    0.021674\n",
       "47    0.021674\n",
       "Name: age, dtype: float64"
      ]
     },
     "execution_count": 8,
     "metadata": {},
     "output_type": "execute_result"
    }
   ],
   "source": [
    "df['age'].value_counts(True).head()"
   ]
  },
  {
   "cell_type": "code",
   "execution_count": 9,
   "id": "778627fc",
   "metadata": {},
   "outputs": [
    {
     "data": {
      "text/plain": [
       "<AxesSubplot:>"
      ]
     },
     "execution_count": 9,
     "metadata": {},
     "output_type": "execute_result"
    },
    {
     "data": {
      "image/png": "[encoded data removed]",
      "text/plain": [
       "<Figure size 432x288 with 1 Axes>"
      ]
     },
     "metadata": {
      "needs_background": "light"
     },
     "output_type": "display_data"
    }
   ],
   "source": [
    "df['age'].plot.box()"
   ]
  },
  {
   "cell_type": "code",
   "execution_count": 10,
   "id": "17fdd161",
   "metadata": {},
   "outputs": [
    {
     "data": {
      "text/plain": [
       "<AxesSubplot:ylabel='Frequency'>"
      ]
     },
     "execution_count": 10,
     "metadata": {},
     "output_type": "execute_result"
    },
    {
     "data": {
      "image/png": "[encoded data removed]",
      "text/plain": [
       "<Figure size 432x288 with 1 Axes>"
      ]
     },
     "metadata": {
      "needs_background": "light"
     },
     "output_type": "display_data"
    }
   ],
   "source": [
    "df['age'].plot.hist(bins=k)"
   ]
  },
  {
   "cell_type": "markdown",
   "id": "094d58d7",
   "metadata": {},
   "source": [
    "Poucos outliers e não podemos fazer muito a respeito dos dados da idade. \n",
    "Conclusão:\n",
    "- Vamos deixar como tá"
   ]
  },
  {
   "cell_type": "markdown",
   "id": "1f8c3a5b",
   "metadata": {},
   "source": [
    "### sex"
   ]
  },
  {
   "cell_type": "code",
   "execution_count": 11,
   "id": "72a87bd5",
   "metadata": {},
   "outputs": [
    {
     "data": {
      "text/plain": [
       "male      0.505232\n",
       "female    0.494768\n",
       "Name: sex, dtype: float64"
      ]
     },
     "execution_count": 11,
     "metadata": {},
     "output_type": "execute_result"
    }
   ],
   "source": [
    "df['sex'].value_counts(True)"
   ]
  },
  {
   "cell_type": "markdown",
   "id": "180ed6d4",
   "metadata": {},
   "source": [
    "Note que os valores de homens e mulheres estão meio a meio.\n",
    "Conclusão:\n",
    "- Vamos manter do jeito que tá\n",
    "- Vamos aplicar OrdinalEnconder nessa feature categórica "
   ]
  },
  {
   "cell_type": "code",
   "execution_count": 12,
   "id": "357cf658",
   "metadata": {},
   "outputs": [
    {
     "name": "stderr",
     "output_type": "stream",
     "text": [
      "C:\\Users\\gabri\\AppData\\Roaming\\Python\\Python39\\site-packages\\scipy\\__init__.py:138: UserWarning: A NumPy version >=1.16.5 and <1.23.0 is required for this version of SciPy (detected version 1.23.4)\n",
      "  warnings.warn(f\"A NumPy version >={np_minversion} and <{np_maxversion} is required for this version of \"\n"
     ]
    }
   ],
   "source": [
    "from sklearn.preprocessing import OrdinalEncoder"
   ]
  },
  {
   "cell_type": "code",
   "execution_count": 13,
   "id": "480a94d7",
   "metadata": {},
   "outputs": [],
   "source": [
    "ordinal_encoder_sex = OrdinalEncoder()"
   ]
  },
  {
   "cell_type": "code",
   "execution_count": 14,
   "id": "63851a62",
   "metadata": {},
   "outputs": [],
   "source": [
    "sex_encoded = ordinal_encoder_sex.fit_transform(df[['sex']])"
   ]
  },
  {
   "cell_type": "code",
   "execution_count": 15,
   "id": "25020474",
   "metadata": {},
   "outputs": [
    {
     "data": {
      "text/plain": [
       "1.0    0.505232\n",
       "0.0    0.494768\n",
       "dtype: float64"
      ]
     },
     "execution_count": 15,
     "metadata": {},
     "output_type": "execute_result"
    }
   ],
   "source": [
    "pd.Series(sex_encoded[:, 0]).value_counts(True)"
   ]
  },
  {
   "cell_type": "code",
   "execution_count": 16,
   "id": "b44c5e4a",
   "metadata": {},
   "outputs": [],
   "source": [
    "sex_encoded = pd.Series(sex_encoded[:, 0])"
   ]
  },
  {
   "cell_type": "code",
   "execution_count": 17,
   "id": "aac09219",
   "metadata": {},
   "outputs": [
    {
     "data": {
      "text/plain": [
       "0       0.0\n",
       "1       1.0\n",
       "2       1.0\n",
       "3       1.0\n",
       "4       1.0\n",
       "       ... \n",
       "1333    1.0\n",
       "1334    0.0\n",
       "1335    0.0\n",
       "1336    0.0\n",
       "1337    0.0\n",
       "Length: 1338, dtype: float64"
      ]
     },
     "execution_count": 17,
     "metadata": {},
     "output_type": "execute_result"
    }
   ],
   "source": [
    "sex_encoded"
   ]
  },
  {
   "cell_type": "code",
   "execution_count": 18,
   "id": "14f94e1a",
   "metadata": {},
   "outputs": [],
   "source": [
    "df.sex = sex_encoded"
   ]
  },
  {
   "cell_type": "code",
   "execution_count": 19,
   "id": "924a41b7",
   "metadata": {},
   "outputs": [
    {
     "data": {
      "text/html": [
       "<div>\n",
       "<style scoped>\n",
       "    .dataframe tbody tr th:only-of-type {\n",
       "        vertical-align: middle;\n",
       "    }\n",
       "\n",
       "    .dataframe tbody tr th {\n",
       "        vertical-align: top;\n",
       "    }\n",
       "\n",
       "    .dataframe thead th {\n",
       "        text-align: right;\n",
       "    }\n",
       "</style>\n",
       "<table border=\"1\" class=\"dataframe\">\n",
       "  <thead>\n",
       "    <tr style=\"text-align: right;\">\n",
       "      <th></th>\n",
       "      <th>age</th>\n",
       "      <th>sex</th>\n",
       "      <th>bmi</th>\n",
       "      <th>children</th>\n",
       "      <th>smoker</th>\n",
       "      <th>region</th>\n",
       "      <th>charges</th>\n",
       "    </tr>\n",
       "  </thead>\n",
       "  <tbody>\n",
       "    <tr>\n",
       "      <th>0</th>\n",
       "      <td>19</td>\n",
       "      <td>0.0</td>\n",
       "      <td>27.900</td>\n",
       "      <td>0</td>\n",
       "      <td>yes</td>\n",
       "      <td>southwest</td>\n",
       "      <td>16884.92400</td>\n",
       "    </tr>\n",
       "    <tr>\n",
       "      <th>1</th>\n",
       "      <td>18</td>\n",
       "      <td>1.0</td>\n",
       "      <td>33.770</td>\n",
       "      <td>1</td>\n",
       "      <td>no</td>\n",
       "      <td>southeast</td>\n",
       "      <td>1725.55230</td>\n",
       "    </tr>\n",
       "    <tr>\n",
       "      <th>2</th>\n",
       "      <td>28</td>\n",
       "      <td>1.0</td>\n",
       "      <td>33.000</td>\n",
       "      <td>3</td>\n",
       "      <td>no</td>\n",
       "      <td>southeast</td>\n",
       "      <td>4449.46200</td>\n",
       "    </tr>\n",
       "    <tr>\n",
       "      <th>3</th>\n",
       "      <td>33</td>\n",
       "      <td>1.0</td>\n",
       "      <td>22.705</td>\n",
       "      <td>0</td>\n",
       "      <td>no</td>\n",
       "      <td>northwest</td>\n",
       "      <td>21984.47061</td>\n",
       "    </tr>\n",
       "    <tr>\n",
       "      <th>4</th>\n",
       "      <td>32</td>\n",
       "      <td>1.0</td>\n",
       "      <td>28.880</td>\n",
       "      <td>0</td>\n",
       "      <td>no</td>\n",
       "      <td>northwest</td>\n",
       "      <td>3866.85520</td>\n",
       "    </tr>\n",
       "    <tr>\n",
       "      <th>...</th>\n",
       "      <td>...</td>\n",
       "      <td>...</td>\n",
       "      <td>...</td>\n",
       "      <td>...</td>\n",
       "      <td>...</td>\n",
       "      <td>...</td>\n",
       "      <td>...</td>\n",
       "    </tr>\n",
       "    <tr>\n",
       "      <th>1333</th>\n",
       "      <td>50</td>\n",
       "      <td>1.0</td>\n",
       "      <td>30.970</td>\n",
       "      <td>3</td>\n",
       "      <td>no</td>\n",
       "      <td>northwest</td>\n",
       "      <td>10600.54830</td>\n",
       "    </tr>\n",
       "    <tr>\n",
       "      <th>1334</th>\n",
       "      <td>18</td>\n",
       "      <td>0.0</td>\n",
       "      <td>31.920</td>\n",
       "      <td>0</td>\n",
       "      <td>no</td>\n",
       "      <td>northeast</td>\n",
       "      <td>2205.98080</td>\n",
       "    </tr>\n",
       "    <tr>\n",
       "      <th>1335</th>\n",
       "      <td>18</td>\n",
       "      <td>0.0</td>\n",
       "      <td>36.850</td>\n",
       "      <td>0</td>\n",
       "      <td>no</td>\n",
       "      <td>southeast</td>\n",
       "      <td>1629.83350</td>\n",
       "    </tr>\n",
       "    <tr>\n",
       "      <th>1336</th>\n",
       "      <td>21</td>\n",
       "      <td>0.0</td>\n",
       "      <td>25.800</td>\n",
       "      <td>0</td>\n",
       "      <td>no</td>\n",
       "      <td>southwest</td>\n",
       "      <td>2007.94500</td>\n",
       "    </tr>\n",
       "    <tr>\n",
       "      <th>1337</th>\n",
       "      <td>61</td>\n",
       "      <td>0.0</td>\n",
       "      <td>29.070</td>\n",
       "      <td>0</td>\n",
       "      <td>yes</td>\n",
       "      <td>northwest</td>\n",
       "      <td>29141.36030</td>\n",
       "    </tr>\n",
       "  </tbody>\n",
       "</table>\n",
       "<p>1338 rows × 7 columns</p>\n",
       "</div>"
      ],
      "text/plain": [
       "      age  sex     bmi  children smoker     region      charges\n",
       "0      19  0.0  27.900         0    yes  southwest  16884.92400\n",
       "1      18  1.0  33.770         1     no  southeast   1725.55230\n",
       "2      28  1.0  33.000         3     no  southeast   4449.46200\n",
       "3      33  1.0  22.705         0     no  northwest  21984.47061\n",
       "4      32  1.0  28.880         0     no  northwest   3866.85520\n",
       "...   ...  ...     ...       ...    ...        ...          ...\n",
       "1333   50  1.0  30.970         3     no  northwest  10600.54830\n",
       "1334   18  0.0  31.920         0     no  northeast   2205.98080\n",
       "1335   18  0.0  36.850         0     no  southeast   1629.83350\n",
       "1336   21  0.0  25.800         0     no  southwest   2007.94500\n",
       "1337   61  0.0  29.070         0    yes  northwest  29141.36030\n",
       "\n",
       "[1338 rows x 7 columns]"
      ]
     },
     "execution_count": 19,
     "metadata": {},
     "output_type": "execute_result"
    }
   ],
   "source": [
    "df"
   ]
  },
  {
   "cell_type": "code",
   "execution_count": null,
   "id": "eec6cf07",
   "metadata": {},
   "outputs": [],
   "source": []
  },
  {
   "cell_type": "markdown",
   "id": "311b1840",
   "metadata": {},
   "source": [
    "### bmi"
   ]
  },
  {
   "cell_type": "code",
   "execution_count": 20,
   "id": "1ad4e88b",
   "metadata": {},
   "outputs": [
    {
     "data": {
      "text/plain": [
       "count    1338.000000\n",
       "mean       30.663397\n",
       "std         6.098187\n",
       "min        15.960000\n",
       "25%        26.296250\n",
       "50%        30.400000\n",
       "75%        34.693750\n",
       "max        53.130000\n",
       "Name: bmi, dtype: float64"
      ]
     },
     "execution_count": 20,
     "metadata": {},
     "output_type": "execute_result"
    }
   ],
   "source": [
    "df['bmi'].describe()"
   ]
  },
  {
   "cell_type": "code",
   "execution_count": 21,
   "id": "f4093563",
   "metadata": {},
   "outputs": [
    {
     "data": {
      "text/plain": [
       "<AxesSubplot:>"
      ]
     },
     "execution_count": 21,
     "metadata": {},
     "output_type": "execute_result"
    },
    {
     "data": {
      "image/png": "[encoded data removed]",
      "text/plain": [
       "<Figure size 432x288 with 1 Axes>"
      ]
     },
     "metadata": {
      "needs_background": "light"
     },
     "output_type": "display_data"
    }
   ],
   "source": [
    "df['bmi'].plot.box()"
   ]
  },
  {
   "cell_type": "markdown",
   "id": "90feee6c",
   "metadata": {},
   "source": [
    "Alguns outliers, vamos analisar o histograma"
   ]
  },
  {
   "cell_type": "code",
   "execution_count": 22,
   "id": "f23c766a",
   "metadata": {},
   "outputs": [
    {
     "data": {
      "text/plain": [
       "<AxesSubplot:ylabel='Frequency'>"
      ]
     },
     "execution_count": 22,
     "metadata": {},
     "output_type": "execute_result"
    },
    {
     "data": {
      "image/png": "[encoded data removed]",
      "text/plain": [
       "<Figure size 432x288 with 1 Axes>"
      ]
     },
     "metadata": {
      "needs_background": "light"
     },
     "output_type": "display_data"
    }
   ],
   "source": [
    "df['bmi'].plot.hist(bins=k)"
   ]
  },
  {
   "cell_type": "markdown",
   "id": "2178ae5f",
   "metadata": {},
   "source": [
    "Nota-se um pouco de assimetria a direita. É possível que utilizar o log do valor dessa coluna possa ajudar a tirar essa assimetria dos dados. Vamos tentar!"
   ]
  },
  {
   "cell_type": "code",
   "execution_count": 23,
   "id": "3a50b837",
   "metadata": {},
   "outputs": [
    {
     "data": {
      "text/plain": [
       "<AxesSubplot:ylabel='Frequency'>"
      ]
     },
     "execution_count": 23,
     "metadata": {},
     "output_type": "execute_result"
    },
    {
     "data": {
      "image/png": "[encoded data removed]",
      "text/plain": [
       "<Figure size 432x288 with 1 Axes>"
      ]
     },
     "metadata": {
      "needs_background": "light"
     },
     "output_type": "display_data"
    }
   ],
   "source": [
    "df['bmi'].apply(np.log10).plot.hist(bins=k)"
   ]
  },
  {
   "cell_type": "markdown",
   "id": "cdaabd48",
   "metadata": {},
   "source": [
    "Note que melhorou a assimetria. Vamos manter o valor do log."
   ]
  },
  {
   "cell_type": "markdown",
   "id": "cdb1401c",
   "metadata": {},
   "source": [
    "Conclusão:\n",
    "- Não vamos cortar nenhum ponto.\n",
    "- Vamos aplicar o log10 na coluna."
   ]
  },
  {
   "cell_type": "code",
   "execution_count": 24,
   "id": "350beaf5",
   "metadata": {},
   "outputs": [],
   "source": [
    "df['bmi'] = df['bmi'].apply(np.log10)"
   ]
  },
  {
   "cell_type": "code",
   "execution_count": 25,
   "id": "17a0a624",
   "metadata": {},
   "outputs": [
    {
     "data": {
      "text/html": [
       "<div>\n",
       "<style scoped>\n",
       "    .dataframe tbody tr th:only-of-type {\n",
       "        vertical-align: middle;\n",
       "    }\n",
       "\n",
       "    .dataframe tbody tr th {\n",
       "        vertical-align: top;\n",
       "    }\n",
       "\n",
       "    .dataframe thead th {\n",
       "        text-align: right;\n",
       "    }\n",
       "</style>\n",
       "<table border=\"1\" class=\"dataframe\">\n",
       "  <thead>\n",
       "    <tr style=\"text-align: right;\">\n",
       "      <th></th>\n",
       "      <th>age</th>\n",
       "      <th>sex</th>\n",
       "      <th>bmi</th>\n",
       "      <th>children</th>\n",
       "      <th>smoker</th>\n",
       "      <th>region</th>\n",
       "      <th>charges</th>\n",
       "    </tr>\n",
       "  </thead>\n",
       "  <tbody>\n",
       "    <tr>\n",
       "      <th>0</th>\n",
       "      <td>19</td>\n",
       "      <td>0.0</td>\n",
       "      <td>1.445604</td>\n",
       "      <td>0</td>\n",
       "      <td>yes</td>\n",
       "      <td>southwest</td>\n",
       "      <td>16884.92400</td>\n",
       "    </tr>\n",
       "    <tr>\n",
       "      <th>1</th>\n",
       "      <td>18</td>\n",
       "      <td>1.0</td>\n",
       "      <td>1.528531</td>\n",
       "      <td>1</td>\n",
       "      <td>no</td>\n",
       "      <td>southeast</td>\n",
       "      <td>1725.55230</td>\n",
       "    </tr>\n",
       "    <tr>\n",
       "      <th>2</th>\n",
       "      <td>28</td>\n",
       "      <td>1.0</td>\n",
       "      <td>1.518514</td>\n",
       "      <td>3</td>\n",
       "      <td>no</td>\n",
       "      <td>southeast</td>\n",
       "      <td>4449.46200</td>\n",
       "    </tr>\n",
       "    <tr>\n",
       "      <th>3</th>\n",
       "      <td>33</td>\n",
       "      <td>1.0</td>\n",
       "      <td>1.356122</td>\n",
       "      <td>0</td>\n",
       "      <td>no</td>\n",
       "      <td>northwest</td>\n",
       "      <td>21984.47061</td>\n",
       "    </tr>\n",
       "    <tr>\n",
       "      <th>4</th>\n",
       "      <td>32</td>\n",
       "      <td>1.0</td>\n",
       "      <td>1.460597</td>\n",
       "      <td>0</td>\n",
       "      <td>no</td>\n",
       "      <td>northwest</td>\n",
       "      <td>3866.85520</td>\n",
       "    </tr>\n",
       "    <tr>\n",
       "      <th>...</th>\n",
       "      <td>...</td>\n",
       "      <td>...</td>\n",
       "      <td>...</td>\n",
       "      <td>...</td>\n",
       "      <td>...</td>\n",
       "      <td>...</td>\n",
       "      <td>...</td>\n",
       "    </tr>\n",
       "    <tr>\n",
       "      <th>1333</th>\n",
       "      <td>50</td>\n",
       "      <td>1.0</td>\n",
       "      <td>1.490941</td>\n",
       "      <td>3</td>\n",
       "      <td>no</td>\n",
       "      <td>northwest</td>\n",
       "      <td>10600.54830</td>\n",
       "    </tr>\n",
       "    <tr>\n",
       "      <th>1334</th>\n",
       "      <td>18</td>\n",
       "      <td>0.0</td>\n",
       "      <td>1.504063</td>\n",
       "      <td>0</td>\n",
       "      <td>no</td>\n",
       "      <td>northeast</td>\n",
       "      <td>2205.98080</td>\n",
       "    </tr>\n",
       "    <tr>\n",
       "      <th>1335</th>\n",
       "      <td>18</td>\n",
       "      <td>0.0</td>\n",
       "      <td>1.566437</td>\n",
       "      <td>0</td>\n",
       "      <td>no</td>\n",
       "      <td>southeast</td>\n",
       "      <td>1629.83350</td>\n",
       "    </tr>\n",
       "    <tr>\n",
       "      <th>1336</th>\n",
       "      <td>21</td>\n",
       "      <td>0.0</td>\n",
       "      <td>1.411620</td>\n",
       "      <td>0</td>\n",
       "      <td>no</td>\n",
       "      <td>southwest</td>\n",
       "      <td>2007.94500</td>\n",
       "    </tr>\n",
       "    <tr>\n",
       "      <th>1337</th>\n",
       "      <td>61</td>\n",
       "      <td>0.0</td>\n",
       "      <td>1.463445</td>\n",
       "      <td>0</td>\n",
       "      <td>yes</td>\n",
       "      <td>northwest</td>\n",
       "      <td>29141.36030</td>\n",
       "    </tr>\n",
       "  </tbody>\n",
       "</table>\n",
       "<p>1338 rows × 7 columns</p>\n",
       "</div>"
      ],
      "text/plain": [
       "      age  sex       bmi  children smoker     region      charges\n",
       "0      19  0.0  1.445604         0    yes  southwest  16884.92400\n",
       "1      18  1.0  1.528531         1     no  southeast   1725.55230\n",
       "2      28  1.0  1.518514         3     no  southeast   4449.46200\n",
       "3      33  1.0  1.356122         0     no  northwest  21984.47061\n",
       "4      32  1.0  1.460597         0     no  northwest   3866.85520\n",
       "...   ...  ...       ...       ...    ...        ...          ...\n",
       "1333   50  1.0  1.490941         3     no  northwest  10600.54830\n",
       "1334   18  0.0  1.504063         0     no  northeast   2205.98080\n",
       "1335   18  0.0  1.566437         0     no  southeast   1629.83350\n",
       "1336   21  0.0  1.411620         0     no  southwest   2007.94500\n",
       "1337   61  0.0  1.463445         0    yes  northwest  29141.36030\n",
       "\n",
       "[1338 rows x 7 columns]"
      ]
     },
     "execution_count": 25,
     "metadata": {},
     "output_type": "execute_result"
    }
   ],
   "source": [
    "df"
   ]
  },
  {
   "cell_type": "markdown",
   "id": "0fd5e16b",
   "metadata": {},
   "source": [
    "### children"
   ]
  },
  {
   "cell_type": "code",
   "execution_count": 26,
   "id": "9f2047d2",
   "metadata": {},
   "outputs": [
    {
     "data": {
      "text/plain": [
       "0       0\n",
       "1       1\n",
       "2       3\n",
       "3       0\n",
       "4       0\n",
       "       ..\n",
       "1333    3\n",
       "1334    0\n",
       "1335    0\n",
       "1336    0\n",
       "1337    0\n",
       "Name: children, Length: 1338, dtype: int64"
      ]
     },
     "execution_count": 26,
     "metadata": {},
     "output_type": "execute_result"
    }
   ],
   "source": [
    "df['children']"
   ]
  },
  {
   "cell_type": "code",
   "execution_count": 27,
   "id": "38a3faab",
   "metadata": {},
   "outputs": [
    {
     "data": {
      "image/png": "[encoded data removed]",
      "text/plain": [
       "<Figure size 432x288 with 1 Axes>"
      ]
     },
     "metadata": {
      "needs_background": "light"
     },
     "output_type": "display_data"
    }
   ],
   "source": [
    "df['children'].value_counts(True).plot(kind='bar');"
   ]
  },
  {
   "cell_type": "markdown",
   "id": "f020a7ff",
   "metadata": {},
   "source": [
    "Conclusão:\n",
    "- Não vamos mexer aqui"
   ]
  },
  {
   "cell_type": "markdown",
   "id": "3f5b1bbe",
   "metadata": {},
   "source": [
    "### smoker"
   ]
  },
  {
   "cell_type": "code",
   "execution_count": 28,
   "id": "48c501d6",
   "metadata": {},
   "outputs": [
    {
     "data": {
      "text/plain": [
       "no     0.795217\n",
       "yes    0.204783\n",
       "Name: smoker, dtype: float64"
      ]
     },
     "execution_count": 28,
     "metadata": {},
     "output_type": "execute_result"
    }
   ],
   "source": [
    "df['smoker'].value_counts(True)"
   ]
  },
  {
   "cell_type": "code",
   "execution_count": 29,
   "id": "6336ad39",
   "metadata": {},
   "outputs": [
    {
     "data": {
      "image/png": "[encoded data removed]",
      "text/plain": [
       "<Figure size 432x288 with 1 Axes>"
      ]
     },
     "metadata": {
      "needs_background": "light"
     },
     "output_type": "display_data"
    }
   ],
   "source": [
    "df['smoker'].value_counts(True).plot(kind='bar');"
   ]
  },
  {
   "cell_type": "markdown",
   "id": "72433baa",
   "metadata": {},
   "source": [
    "Note que esta é uma variável categórica, logo, vamos transformar ela em valores numéricos utilizando o OrdinalEncoder do ScikitLearn"
   ]
  },
  {
   "cell_type": "code",
   "execution_count": 30,
   "id": "a46b51ad",
   "metadata": {},
   "outputs": [],
   "source": [
    "ordinal_enconder = OrdinalEncoder()"
   ]
  },
  {
   "cell_type": "code",
   "execution_count": 31,
   "id": "d047c7b1",
   "metadata": {},
   "outputs": [],
   "source": [
    "smoke_encoded = ordinal_enconder.fit_transform(df[['smoker']])"
   ]
  },
  {
   "cell_type": "code",
   "execution_count": 32,
   "id": "5b0e8b62",
   "metadata": {},
   "outputs": [
    {
     "data": {
      "text/plain": [
       "0.0    0.795217\n",
       "1.0    0.204783\n",
       "dtype: float64"
      ]
     },
     "execution_count": 32,
     "metadata": {},
     "output_type": "execute_result"
    }
   ],
   "source": [
    "pd.Series(smoke_encoded[:, 0]).value_counts(True)"
   ]
  },
  {
   "cell_type": "code",
   "execution_count": 33,
   "id": "8ec17dae",
   "metadata": {},
   "outputs": [],
   "source": [
    "smoke_encoded = pd.Series(smoke_encoded[:, 0])"
   ]
  },
  {
   "cell_type": "code",
   "execution_count": 34,
   "id": "17bc93dc",
   "metadata": {},
   "outputs": [
    {
     "data": {
      "text/plain": [
       "0       1.0\n",
       "1       0.0\n",
       "2       0.0\n",
       "3       0.0\n",
       "4       0.0\n",
       "       ... \n",
       "1333    0.0\n",
       "1334    0.0\n",
       "1335    0.0\n",
       "1336    0.0\n",
       "1337    1.0\n",
       "Length: 1338, dtype: float64"
      ]
     },
     "execution_count": 34,
     "metadata": {},
     "output_type": "execute_result"
    }
   ],
   "source": [
    "smoke_encoded"
   ]
  },
  {
   "cell_type": "code",
   "execution_count": 35,
   "id": "cc89e949",
   "metadata": {},
   "outputs": [],
   "source": [
    "df.smoker = smoke_encoded"
   ]
  },
  {
   "cell_type": "code",
   "execution_count": 36,
   "id": "d964cfbc",
   "metadata": {
    "scrolled": true
   },
   "outputs": [
    {
     "data": {
      "text/html": [
       "<div>\n",
       "<style scoped>\n",
       "    .dataframe tbody tr th:only-of-type {\n",
       "        vertical-align: middle;\n",
       "    }\n",
       "\n",
       "    .dataframe tbody tr th {\n",
       "        vertical-align: top;\n",
       "    }\n",
       "\n",
       "    .dataframe thead th {\n",
       "        text-align: right;\n",
       "    }\n",
       "</style>\n",
       "<table border=\"1\" class=\"dataframe\">\n",
       "  <thead>\n",
       "    <tr style=\"text-align: right;\">\n",
       "      <th></th>\n",
       "      <th>age</th>\n",
       "      <th>sex</th>\n",
       "      <th>bmi</th>\n",
       "      <th>children</th>\n",
       "      <th>smoker</th>\n",
       "      <th>region</th>\n",
       "      <th>charges</th>\n",
       "    </tr>\n",
       "  </thead>\n",
       "  <tbody>\n",
       "    <tr>\n",
       "      <th>0</th>\n",
       "      <td>19</td>\n",
       "      <td>0.0</td>\n",
       "      <td>1.445604</td>\n",
       "      <td>0</td>\n",
       "      <td>1.0</td>\n",
       "      <td>southwest</td>\n",
       "      <td>16884.92400</td>\n",
       "    </tr>\n",
       "    <tr>\n",
       "      <th>1</th>\n",
       "      <td>18</td>\n",
       "      <td>1.0</td>\n",
       "      <td>1.528531</td>\n",
       "      <td>1</td>\n",
       "      <td>0.0</td>\n",
       "      <td>southeast</td>\n",
       "      <td>1725.55230</td>\n",
       "    </tr>\n",
       "    <tr>\n",
       "      <th>2</th>\n",
       "      <td>28</td>\n",
       "      <td>1.0</td>\n",
       "      <td>1.518514</td>\n",
       "      <td>3</td>\n",
       "      <td>0.0</td>\n",
       "      <td>southeast</td>\n",
       "      <td>4449.46200</td>\n",
       "    </tr>\n",
       "    <tr>\n",
       "      <th>3</th>\n",
       "      <td>33</td>\n",
       "      <td>1.0</td>\n",
       "      <td>1.356122</td>\n",
       "      <td>0</td>\n",
       "      <td>0.0</td>\n",
       "      <td>northwest</td>\n",
       "      <td>21984.47061</td>\n",
       "    </tr>\n",
       "    <tr>\n",
       "      <th>4</th>\n",
       "      <td>32</td>\n",
       "      <td>1.0</td>\n",
       "      <td>1.460597</td>\n",
       "      <td>0</td>\n",
       "      <td>0.0</td>\n",
       "      <td>northwest</td>\n",
       "      <td>3866.85520</td>\n",
       "    </tr>\n",
       "    <tr>\n",
       "      <th>...</th>\n",
       "      <td>...</td>\n",
       "      <td>...</td>\n",
       "      <td>...</td>\n",
       "      <td>...</td>\n",
       "      <td>...</td>\n",
       "      <td>...</td>\n",
       "      <td>...</td>\n",
       "    </tr>\n",
       "    <tr>\n",
       "      <th>1333</th>\n",
       "      <td>50</td>\n",
       "      <td>1.0</td>\n",
       "      <td>1.490941</td>\n",
       "      <td>3</td>\n",
       "      <td>0.0</td>\n",
       "      <td>northwest</td>\n",
       "      <td>10600.54830</td>\n",
       "    </tr>\n",
       "    <tr>\n",
       "      <th>1334</th>\n",
       "      <td>18</td>\n",
       "      <td>0.0</td>\n",
       "      <td>1.504063</td>\n",
       "      <td>0</td>\n",
       "      <td>0.0</td>\n",
       "      <td>northeast</td>\n",
       "      <td>2205.98080</td>\n",
       "    </tr>\n",
       "    <tr>\n",
       "      <th>1335</th>\n",
       "      <td>18</td>\n",
       "      <td>0.0</td>\n",
       "      <td>1.566437</td>\n",
       "      <td>0</td>\n",
       "      <td>0.0</td>\n",
       "      <td>southeast</td>\n",
       "      <td>1629.83350</td>\n",
       "    </tr>\n",
       "    <tr>\n",
       "      <th>1336</th>\n",
       "      <td>21</td>\n",
       "      <td>0.0</td>\n",
       "      <td>1.411620</td>\n",
       "      <td>0</td>\n",
       "      <td>0.0</td>\n",
       "      <td>southwest</td>\n",
       "      <td>2007.94500</td>\n",
       "    </tr>\n",
       "    <tr>\n",
       "      <th>1337</th>\n",
       "      <td>61</td>\n",
       "      <td>0.0</td>\n",
       "      <td>1.463445</td>\n",
       "      <td>0</td>\n",
       "      <td>1.0</td>\n",
       "      <td>northwest</td>\n",
       "      <td>29141.36030</td>\n",
       "    </tr>\n",
       "  </tbody>\n",
       "</table>\n",
       "<p>1338 rows × 7 columns</p>\n",
       "</div>"
      ],
      "text/plain": [
       "      age  sex       bmi  children  smoker     region      charges\n",
       "0      19  0.0  1.445604         0     1.0  southwest  16884.92400\n",
       "1      18  1.0  1.528531         1     0.0  southeast   1725.55230\n",
       "2      28  1.0  1.518514         3     0.0  southeast   4449.46200\n",
       "3      33  1.0  1.356122         0     0.0  northwest  21984.47061\n",
       "4      32  1.0  1.460597         0     0.0  northwest   3866.85520\n",
       "...   ...  ...       ...       ...     ...        ...          ...\n",
       "1333   50  1.0  1.490941         3     0.0  northwest  10600.54830\n",
       "1334   18  0.0  1.504063         0     0.0  northeast   2205.98080\n",
       "1335   18  0.0  1.566437         0     0.0  southeast   1629.83350\n",
       "1336   21  0.0  1.411620         0     0.0  southwest   2007.94500\n",
       "1337   61  0.0  1.463445         0     1.0  northwest  29141.36030\n",
       "\n",
       "[1338 rows x 7 columns]"
      ]
     },
     "execution_count": 36,
     "metadata": {},
     "output_type": "execute_result"
    }
   ],
   "source": [
    "df"
   ]
  },
  {
   "cell_type": "markdown",
   "id": "6c55ce4e",
   "metadata": {},
   "source": [
    "Conclusão:\n",
    "- Usamos OrdinalEncoder para transformar o valor de smoker (categórico) em número de forma binária."
   ]
  },
  {
   "cell_type": "markdown",
   "id": "c07dd260",
   "metadata": {},
   "source": [
    "### region"
   ]
  },
  {
   "cell_type": "code",
   "execution_count": 37,
   "id": "f5b338f2",
   "metadata": {},
   "outputs": [
    {
     "data": {
      "text/plain": [
       "0       southwest\n",
       "1       southeast\n",
       "2       southeast\n",
       "3       northwest\n",
       "4       northwest\n",
       "          ...    \n",
       "1333    northwest\n",
       "1334    northeast\n",
       "1335    southeast\n",
       "1336    southwest\n",
       "1337    northwest\n",
       "Name: region, Length: 1338, dtype: object"
      ]
     },
     "execution_count": 37,
     "metadata": {},
     "output_type": "execute_result"
    }
   ],
   "source": [
    "df['region']"
   ]
  },
  {
   "cell_type": "code",
   "execution_count": 38,
   "id": "1d8129a8",
   "metadata": {},
   "outputs": [
    {
     "data": {
      "text/plain": [
       "southeast    0.272048\n",
       "southwest    0.242900\n",
       "northwest    0.242900\n",
       "northeast    0.242152\n",
       "Name: region, dtype: float64"
      ]
     },
     "execution_count": 38,
     "metadata": {},
     "output_type": "execute_result"
    }
   ],
   "source": [
    "df['region'].value_counts(True)"
   ]
  },
  {
   "cell_type": "markdown",
   "id": "2fac4f5f",
   "metadata": {},
   "source": [
    "Note que para cada região os valores estão bem distribuidos"
   ]
  },
  {
   "cell_type": "code",
   "execution_count": 39,
   "id": "74fd3887",
   "metadata": {},
   "outputs": [
    {
     "data": {
      "image/png": "[encoded data removed]",
      "text/plain": [
       "<Figure size 432x288 with 1 Axes>"
      ]
     },
     "metadata": {
      "needs_background": "light"
     },
     "output_type": "display_data"
    }
   ],
   "source": [
    "df['region'].value_counts(True).plot(kind='bar');"
   ]
  },
  {
   "cell_type": "markdown",
   "id": "a41734c7",
   "metadata": {},
   "source": [
    "Valores categóricos novamente, vamos utilizar dessa vez o One-hot-Encoder para codificar os valores como falsas features binárias."
   ]
  },
  {
   "cell_type": "code",
   "execution_count": 40,
   "id": "c5961584",
   "metadata": {},
   "outputs": [],
   "source": [
    "from sklearn.preprocessing import OneHotEncoder"
   ]
  },
  {
   "cell_type": "code",
   "execution_count": 41,
   "id": "581a0f1c",
   "metadata": {},
   "outputs": [],
   "source": [
    "region_enconder = OneHotEncoder()"
   ]
  },
  {
   "cell_type": "code",
   "execution_count": 42,
   "id": "97a637e8",
   "metadata": {},
   "outputs": [],
   "source": [
    "region_1hot = region_enconder.fit_transform(df[['region']])"
   ]
  },
  {
   "cell_type": "code",
   "execution_count": 43,
   "id": "adff6efb",
   "metadata": {},
   "outputs": [
    {
     "data": {
      "text/plain": [
       "(array([[0., 0., 0., 1.],\n",
       "        [0., 0., 1., 0.],\n",
       "        [0., 0., 1., 0.],\n",
       "        ...,\n",
       "        [0., 0., 1., 0.],\n",
       "        [0., 0., 0., 1.],\n",
       "        [0., 1., 0., 0.]]),\n",
       " (1338, 4))"
      ]
     },
     "execution_count": 43,
     "metadata": {},
     "output_type": "execute_result"
    }
   ],
   "source": [
    "region_1hot.toarray(), region_1hot.toarray().shape"
   ]
  },
  {
   "cell_type": "code",
   "execution_count": 44,
   "id": "c3688b74",
   "metadata": {},
   "outputs": [
    {
     "data": {
      "text/plain": [
       "[array(['northeast', 'northwest', 'southeast', 'southwest'], dtype=object)]"
      ]
     },
     "execution_count": 44,
     "metadata": {},
     "output_type": "execute_result"
    }
   ],
   "source": [
    "region_enconder.categories_"
   ]
  },
  {
   "cell_type": "code",
   "execution_count": 45,
   "id": "3f08c9b3",
   "metadata": {},
   "outputs": [
    {
     "data": {
      "text/plain": [
       "((0.0    0.757848\n",
       "  1.0    0.242152\n",
       "  dtype: float64,\n",
       "  'northeast'),\n",
       " (0.0    0.7571\n",
       "  1.0    0.2429\n",
       "  dtype: float64,\n",
       "  'northwest'),\n",
       " (0.0    0.727952\n",
       "  1.0    0.272048\n",
       "  dtype: float64,\n",
       "  'southeast'),\n",
       " (0.0    0.7571\n",
       "  1.0    0.2429\n",
       "  dtype: float64,\n",
       "  'southwest'))"
      ]
     },
     "execution_count": 45,
     "metadata": {},
     "output_type": "execute_result"
    }
   ],
   "source": [
    "(\n",
    "    (pd.Series(region_1hot.toarray()[:, 0]).value_counts(True), 'northeast'),\n",
    "    (pd.Series(region_1hot.toarray()[:, 1]).value_counts(True), 'northwest'),\n",
    "    (pd.Series(region_1hot.toarray()[:, 2]).value_counts(True), 'southeast'),\n",
    "    (pd.Series(region_1hot.toarray()[:, 3]).value_counts(True), 'southwest'),\n",
    ")"
   ]
  },
  {
   "cell_type": "code",
   "execution_count": 46,
   "id": "0fa0225e",
   "metadata": {},
   "outputs": [],
   "source": [
    "northeast_feat = pd.DataFrame(pd.Series(region_1hot.toarray()[:, 0]), columns=['northeast'])\n",
    "northwest_feat = pd.DataFrame(pd.Series(region_1hot.toarray()[:, 1]), columns=['northwest'])\n",
    "southeast_feat = pd.DataFrame(pd.Series(region_1hot.toarray()[:, 2]), columns=['southeast'])\n",
    "southwest_feat = pd.DataFrame(pd.Series(region_1hot.toarray()[:, 3]), columns=['southwest'])"
   ]
  },
  {
   "cell_type": "markdown",
   "id": "6ff036aa",
   "metadata": {},
   "source": [
    "Pronto, criamos 4 features binárias com o One Hot Encoder, vamos concatenar ao df e retirar a coluna de region"
   ]
  },
  {
   "cell_type": "code",
   "execution_count": 47,
   "id": "50fa6f1f",
   "metadata": {},
   "outputs": [
    {
     "data": {
      "text/html": [
       "<div>\n",
       "<style scoped>\n",
       "    .dataframe tbody tr th:only-of-type {\n",
       "        vertical-align: middle;\n",
       "    }\n",
       "\n",
       "    .dataframe tbody tr th {\n",
       "        vertical-align: top;\n",
       "    }\n",
       "\n",
       "    .dataframe thead th {\n",
       "        text-align: right;\n",
       "    }\n",
       "</style>\n",
       "<table border=\"1\" class=\"dataframe\">\n",
       "  <thead>\n",
       "    <tr style=\"text-align: right;\">\n",
       "      <th></th>\n",
       "      <th>northeast</th>\n",
       "      <th>northwest</th>\n",
       "      <th>southeast</th>\n",
       "      <th>southwest</th>\n",
       "    </tr>\n",
       "  </thead>\n",
       "  <tbody>\n",
       "    <tr>\n",
       "      <th>0</th>\n",
       "      <td>0.0</td>\n",
       "      <td>0.0</td>\n",
       "      <td>0.0</td>\n",
       "      <td>1.0</td>\n",
       "    </tr>\n",
       "    <tr>\n",
       "      <th>1</th>\n",
       "      <td>0.0</td>\n",
       "      <td>0.0</td>\n",
       "      <td>1.0</td>\n",
       "      <td>0.0</td>\n",
       "    </tr>\n",
       "    <tr>\n",
       "      <th>2</th>\n",
       "      <td>0.0</td>\n",
       "      <td>0.0</td>\n",
       "      <td>1.0</td>\n",
       "      <td>0.0</td>\n",
       "    </tr>\n",
       "    <tr>\n",
       "      <th>3</th>\n",
       "      <td>0.0</td>\n",
       "      <td>1.0</td>\n",
       "      <td>0.0</td>\n",
       "      <td>0.0</td>\n",
       "    </tr>\n",
       "    <tr>\n",
       "      <th>4</th>\n",
       "      <td>0.0</td>\n",
       "      <td>1.0</td>\n",
       "      <td>0.0</td>\n",
       "      <td>0.0</td>\n",
       "    </tr>\n",
       "    <tr>\n",
       "      <th>...</th>\n",
       "      <td>...</td>\n",
       "      <td>...</td>\n",
       "      <td>...</td>\n",
       "      <td>...</td>\n",
       "    </tr>\n",
       "    <tr>\n",
       "      <th>1333</th>\n",
       "      <td>0.0</td>\n",
       "      <td>1.0</td>\n",
       "      <td>0.0</td>\n",
       "      <td>0.0</td>\n",
       "    </tr>\n",
       "    <tr>\n",
       "      <th>1334</th>\n",
       "      <td>1.0</td>\n",
       "      <td>0.0</td>\n",
       "      <td>0.0</td>\n",
       "      <td>0.0</td>\n",
       "    </tr>\n",
       "    <tr>\n",
       "      <th>1335</th>\n",
       "      <td>0.0</td>\n",
       "      <td>0.0</td>\n",
       "      <td>1.0</td>\n",
       "      <td>0.0</td>\n",
       "    </tr>\n",
       "    <tr>\n",
       "      <th>1336</th>\n",
       "      <td>0.0</td>\n",
       "      <td>0.0</td>\n",
       "      <td>0.0</td>\n",
       "      <td>1.0</td>\n",
       "    </tr>\n",
       "    <tr>\n",
       "      <th>1337</th>\n",
       "      <td>0.0</td>\n",
       "      <td>1.0</td>\n",
       "      <td>0.0</td>\n",
       "      <td>0.0</td>\n",
       "    </tr>\n",
       "  </tbody>\n",
       "</table>\n",
       "<p>1338 rows × 4 columns</p>\n",
       "</div>"
      ],
      "text/plain": [
       "      northeast  northwest  southeast  southwest\n",
       "0           0.0        0.0        0.0        1.0\n",
       "1           0.0        0.0        1.0        0.0\n",
       "2           0.0        0.0        1.0        0.0\n",
       "3           0.0        1.0        0.0        0.0\n",
       "4           0.0        1.0        0.0        0.0\n",
       "...         ...        ...        ...        ...\n",
       "1333        0.0        1.0        0.0        0.0\n",
       "1334        1.0        0.0        0.0        0.0\n",
       "1335        0.0        0.0        1.0        0.0\n",
       "1336        0.0        0.0        0.0        1.0\n",
       "1337        0.0        1.0        0.0        0.0\n",
       "\n",
       "[1338 rows x 4 columns]"
      ]
     },
     "execution_count": 47,
     "metadata": {},
     "output_type": "execute_result"
    }
   ],
   "source": [
    "region = pd.concat([northeast_feat, northwest_feat, southeast_feat, southwest_feat], axis=1)\n",
    "region"
   ]
  },
  {
   "cell_type": "code",
   "execution_count": 48,
   "id": "a41fe181",
   "metadata": {},
   "outputs": [
    {
     "data": {
      "text/html": [
       "<div>\n",
       "<style scoped>\n",
       "    .dataframe tbody tr th:only-of-type {\n",
       "        vertical-align: middle;\n",
       "    }\n",
       "\n",
       "    .dataframe tbody tr th {\n",
       "        vertical-align: top;\n",
       "    }\n",
       "\n",
       "    .dataframe thead th {\n",
       "        text-align: right;\n",
       "    }\n",
       "</style>\n",
       "<table border=\"1\" class=\"dataframe\">\n",
       "  <thead>\n",
       "    <tr style=\"text-align: right;\">\n",
       "      <th></th>\n",
       "      <th>age</th>\n",
       "      <th>sex</th>\n",
       "      <th>bmi</th>\n",
       "      <th>children</th>\n",
       "      <th>smoker</th>\n",
       "      <th>region</th>\n",
       "      <th>charges</th>\n",
       "      <th>northeast</th>\n",
       "      <th>northwest</th>\n",
       "      <th>southeast</th>\n",
       "      <th>southwest</th>\n",
       "    </tr>\n",
       "  </thead>\n",
       "  <tbody>\n",
       "    <tr>\n",
       "      <th>0</th>\n",
       "      <td>19</td>\n",
       "      <td>0.0</td>\n",
       "      <td>1.445604</td>\n",
       "      <td>0</td>\n",
       "      <td>1.0</td>\n",
       "      <td>southwest</td>\n",
       "      <td>16884.92400</td>\n",
       "      <td>0.0</td>\n",
       "      <td>0.0</td>\n",
       "      <td>0.0</td>\n",
       "      <td>1.0</td>\n",
       "    </tr>\n",
       "    <tr>\n",
       "      <th>1</th>\n",
       "      <td>18</td>\n",
       "      <td>1.0</td>\n",
       "      <td>1.528531</td>\n",
       "      <td>1</td>\n",
       "      <td>0.0</td>\n",
       "      <td>southeast</td>\n",
       "      <td>1725.55230</td>\n",
       "      <td>0.0</td>\n",
       "      <td>0.0</td>\n",
       "      <td>1.0</td>\n",
       "      <td>0.0</td>\n",
       "    </tr>\n",
       "    <tr>\n",
       "      <th>2</th>\n",
       "      <td>28</td>\n",
       "      <td>1.0</td>\n",
       "      <td>1.518514</td>\n",
       "      <td>3</td>\n",
       "      <td>0.0</td>\n",
       "      <td>southeast</td>\n",
       "      <td>4449.46200</td>\n",
       "      <td>0.0</td>\n",
       "      <td>0.0</td>\n",
       "      <td>1.0</td>\n",
       "      <td>0.0</td>\n",
       "    </tr>\n",
       "    <tr>\n",
       "      <th>3</th>\n",
       "      <td>33</td>\n",
       "      <td>1.0</td>\n",
       "      <td>1.356122</td>\n",
       "      <td>0</td>\n",
       "      <td>0.0</td>\n",
       "      <td>northwest</td>\n",
       "      <td>21984.47061</td>\n",
       "      <td>0.0</td>\n",
       "      <td>1.0</td>\n",
       "      <td>0.0</td>\n",
       "      <td>0.0</td>\n",
       "    </tr>\n",
       "    <tr>\n",
       "      <th>4</th>\n",
       "      <td>32</td>\n",
       "      <td>1.0</td>\n",
       "      <td>1.460597</td>\n",
       "      <td>0</td>\n",
       "      <td>0.0</td>\n",
       "      <td>northwest</td>\n",
       "      <td>3866.85520</td>\n",
       "      <td>0.0</td>\n",
       "      <td>1.0</td>\n",
       "      <td>0.0</td>\n",
       "      <td>0.0</td>\n",
       "    </tr>\n",
       "    <tr>\n",
       "      <th>...</th>\n",
       "      <td>...</td>\n",
       "      <td>...</td>\n",
       "      <td>...</td>\n",
       "      <td>...</td>\n",
       "      <td>...</td>\n",
       "      <td>...</td>\n",
       "      <td>...</td>\n",
       "      <td>...</td>\n",
       "      <td>...</td>\n",
       "      <td>...</td>\n",
       "      <td>...</td>\n",
       "    </tr>\n",
       "    <tr>\n",
       "      <th>1333</th>\n",
       "      <td>50</td>\n",
       "      <td>1.0</td>\n",
       "      <td>1.490941</td>\n",
       "      <td>3</td>\n",
       "      <td>0.0</td>\n",
       "      <td>northwest</td>\n",
       "      <td>10600.54830</td>\n",
       "      <td>0.0</td>\n",
       "      <td>1.0</td>\n",
       "      <td>0.0</td>\n",
       "      <td>0.0</td>\n",
       "    </tr>\n",
       "    <tr>\n",
       "      <th>1334</th>\n",
       "      <td>18</td>\n",
       "      <td>0.0</td>\n",
       "      <td>1.504063</td>\n",
       "      <td>0</td>\n",
       "      <td>0.0</td>\n",
       "      <td>northeast</td>\n",
       "      <td>2205.98080</td>\n",
       "      <td>1.0</td>\n",
       "      <td>0.0</td>\n",
       "      <td>0.0</td>\n",
       "      <td>0.0</td>\n",
       "    </tr>\n",
       "    <tr>\n",
       "      <th>1335</th>\n",
       "      <td>18</td>\n",
       "      <td>0.0</td>\n",
       "      <td>1.566437</td>\n",
       "      <td>0</td>\n",
       "      <td>0.0</td>\n",
       "      <td>southeast</td>\n",
       "      <td>1629.83350</td>\n",
       "      <td>0.0</td>\n",
       "      <td>0.0</td>\n",
       "      <td>1.0</td>\n",
       "      <td>0.0</td>\n",
       "    </tr>\n",
       "    <tr>\n",
       "      <th>1336</th>\n",
       "      <td>21</td>\n",
       "      <td>0.0</td>\n",
       "      <td>1.411620</td>\n",
       "      <td>0</td>\n",
       "      <td>0.0</td>\n",
       "      <td>southwest</td>\n",
       "      <td>2007.94500</td>\n",
       "      <td>0.0</td>\n",
       "      <td>0.0</td>\n",
       "      <td>0.0</td>\n",
       "      <td>1.0</td>\n",
       "    </tr>\n",
       "    <tr>\n",
       "      <th>1337</th>\n",
       "      <td>61</td>\n",
       "      <td>0.0</td>\n",
       "      <td>1.463445</td>\n",
       "      <td>0</td>\n",
       "      <td>1.0</td>\n",
       "      <td>northwest</td>\n",
       "      <td>29141.36030</td>\n",
       "      <td>0.0</td>\n",
       "      <td>1.0</td>\n",
       "      <td>0.0</td>\n",
       "      <td>0.0</td>\n",
       "    </tr>\n",
       "  </tbody>\n",
       "</table>\n",
       "<p>1338 rows × 11 columns</p>\n",
       "</div>"
      ],
      "text/plain": [
       "      age  sex       bmi  children  smoker     region      charges  northeast  \\\n",
       "0      19  0.0  1.445604         0     1.0  southwest  16884.92400        0.0   \n",
       "1      18  1.0  1.528531         1     0.0  southeast   1725.55230        0.0   \n",
       "2      28  1.0  1.518514         3     0.0  southeast   4449.46200        0.0   \n",
       "3      33  1.0  1.356122         0     0.0  northwest  21984.47061        0.0   \n",
       "4      32  1.0  1.460597         0     0.0  northwest   3866.85520        0.0   \n",
       "...   ...  ...       ...       ...     ...        ...          ...        ...   \n",
       "1333   50  1.0  1.490941         3     0.0  northwest  10600.54830        0.0   \n",
       "1334   18  0.0  1.504063         0     0.0  northeast   2205.98080        1.0   \n",
       "1335   18  0.0  1.566437         0     0.0  southeast   1629.83350        0.0   \n",
       "1336   21  0.0  1.411620         0     0.0  southwest   2007.94500        0.0   \n",
       "1337   61  0.0  1.463445         0     1.0  northwest  29141.36030        0.0   \n",
       "\n",
       "      northwest  southeast  southwest  \n",
       "0           0.0        0.0        1.0  \n",
       "1           0.0        1.0        0.0  \n",
       "2           0.0        1.0        0.0  \n",
       "3           1.0        0.0        0.0  \n",
       "4           1.0        0.0        0.0  \n",
       "...         ...        ...        ...  \n",
       "1333        1.0        0.0        0.0  \n",
       "1334        0.0        0.0        0.0  \n",
       "1335        0.0        1.0        0.0  \n",
       "1336        0.0        0.0        1.0  \n",
       "1337        1.0        0.0        0.0  \n",
       "\n",
       "[1338 rows x 11 columns]"
      ]
     },
     "execution_count": 48,
     "metadata": {},
     "output_type": "execute_result"
    }
   ],
   "source": [
    "df = pd.concat([df, region], axis=1)\n",
    "df"
   ]
  },
  {
   "cell_type": "code",
   "execution_count": 49,
   "id": "d0afedf5",
   "metadata": {},
   "outputs": [],
   "source": [
    "df.drop('region', axis=1, inplace=True)"
   ]
  },
  {
   "cell_type": "code",
   "execution_count": 50,
   "id": "ae48bed1",
   "metadata": {},
   "outputs": [
    {
     "data": {
      "text/html": [
       "<div>\n",
       "<style scoped>\n",
       "    .dataframe tbody tr th:only-of-type {\n",
       "        vertical-align: middle;\n",
       "    }\n",
       "\n",
       "    .dataframe tbody tr th {\n",
       "        vertical-align: top;\n",
       "    }\n",
       "\n",
       "    .dataframe thead th {\n",
       "        text-align: right;\n",
       "    }\n",
       "</style>\n",
       "<table border=\"1\" class=\"dataframe\">\n",
       "  <thead>\n",
       "    <tr style=\"text-align: right;\">\n",
       "      <th></th>\n",
       "      <th>age</th>\n",
       "      <th>sex</th>\n",
       "      <th>bmi</th>\n",
       "      <th>children</th>\n",
       "      <th>smoker</th>\n",
       "      <th>charges</th>\n",
       "      <th>northeast</th>\n",
       "      <th>northwest</th>\n",
       "      <th>southeast</th>\n",
       "      <th>southwest</th>\n",
       "    </tr>\n",
       "  </thead>\n",
       "  <tbody>\n",
       "    <tr>\n",
       "      <th>0</th>\n",
       "      <td>19</td>\n",
       "      <td>0.0</td>\n",
       "      <td>1.445604</td>\n",
       "      <td>0</td>\n",
       "      <td>1.0</td>\n",
       "      <td>16884.92400</td>\n",
       "      <td>0.0</td>\n",
       "      <td>0.0</td>\n",
       "      <td>0.0</td>\n",
       "      <td>1.0</td>\n",
       "    </tr>\n",
       "    <tr>\n",
       "      <th>1</th>\n",
       "      <td>18</td>\n",
       "      <td>1.0</td>\n",
       "      <td>1.528531</td>\n",
       "      <td>1</td>\n",
       "      <td>0.0</td>\n",
       "      <td>1725.55230</td>\n",
       "      <td>0.0</td>\n",
       "      <td>0.0</td>\n",
       "      <td>1.0</td>\n",
       "      <td>0.0</td>\n",
       "    </tr>\n",
       "    <tr>\n",
       "      <th>2</th>\n",
       "      <td>28</td>\n",
       "      <td>1.0</td>\n",
       "      <td>1.518514</td>\n",
       "      <td>3</td>\n",
       "      <td>0.0</td>\n",
       "      <td>4449.46200</td>\n",
       "      <td>0.0</td>\n",
       "      <td>0.0</td>\n",
       "      <td>1.0</td>\n",
       "      <td>0.0</td>\n",
       "    </tr>\n",
       "    <tr>\n",
       "      <th>3</th>\n",
       "      <td>33</td>\n",
       "      <td>1.0</td>\n",
       "      <td>1.356122</td>\n",
       "      <td>0</td>\n",
       "      <td>0.0</td>\n",
       "      <td>21984.47061</td>\n",
       "      <td>0.0</td>\n",
       "      <td>1.0</td>\n",
       "      <td>0.0</td>\n",
       "      <td>0.0</td>\n",
       "    </tr>\n",
       "    <tr>\n",
       "      <th>4</th>\n",
       "      <td>32</td>\n",
       "      <td>1.0</td>\n",
       "      <td>1.460597</td>\n",
       "      <td>0</td>\n",
       "      <td>0.0</td>\n",
       "      <td>3866.85520</td>\n",
       "      <td>0.0</td>\n",
       "      <td>1.0</td>\n",
       "      <td>0.0</td>\n",
       "      <td>0.0</td>\n",
       "    </tr>\n",
       "    <tr>\n",
       "      <th>...</th>\n",
       "      <td>...</td>\n",
       "      <td>...</td>\n",
       "      <td>...</td>\n",
       "      <td>...</td>\n",
       "      <td>...</td>\n",
       "      <td>...</td>\n",
       "      <td>...</td>\n",
       "      <td>...</td>\n",
       "      <td>...</td>\n",
       "      <td>...</td>\n",
       "    </tr>\n",
       "    <tr>\n",
       "      <th>1333</th>\n",
       "      <td>50</td>\n",
       "      <td>1.0</td>\n",
       "      <td>1.490941</td>\n",
       "      <td>3</td>\n",
       "      <td>0.0</td>\n",
       "      <td>10600.54830</td>\n",
       "      <td>0.0</td>\n",
       "      <td>1.0</td>\n",
       "      <td>0.0</td>\n",
       "      <td>0.0</td>\n",
       "    </tr>\n",
       "    <tr>\n",
       "      <th>1334</th>\n",
       "      <td>18</td>\n",
       "      <td>0.0</td>\n",
       "      <td>1.504063</td>\n",
       "      <td>0</td>\n",
       "      <td>0.0</td>\n",
       "      <td>2205.98080</td>\n",
       "      <td>1.0</td>\n",
       "      <td>0.0</td>\n",
       "      <td>0.0</td>\n",
       "      <td>0.0</td>\n",
       "    </tr>\n",
       "    <tr>\n",
       "      <th>1335</th>\n",
       "      <td>18</td>\n",
       "      <td>0.0</td>\n",
       "      <td>1.566437</td>\n",
       "      <td>0</td>\n",
       "      <td>0.0</td>\n",
       "      <td>1629.83350</td>\n",
       "      <td>0.0</td>\n",
       "      <td>0.0</td>\n",
       "      <td>1.0</td>\n",
       "      <td>0.0</td>\n",
       "    </tr>\n",
       "    <tr>\n",
       "      <th>1336</th>\n",
       "      <td>21</td>\n",
       "      <td>0.0</td>\n",
       "      <td>1.411620</td>\n",
       "      <td>0</td>\n",
       "      <td>0.0</td>\n",
       "      <td>2007.94500</td>\n",
       "      <td>0.0</td>\n",
       "      <td>0.0</td>\n",
       "      <td>0.0</td>\n",
       "      <td>1.0</td>\n",
       "    </tr>\n",
       "    <tr>\n",
       "      <th>1337</th>\n",
       "      <td>61</td>\n",
       "      <td>0.0</td>\n",
       "      <td>1.463445</td>\n",
       "      <td>0</td>\n",
       "      <td>1.0</td>\n",
       "      <td>29141.36030</td>\n",
       "      <td>0.0</td>\n",
       "      <td>1.0</td>\n",
       "      <td>0.0</td>\n",
       "      <td>0.0</td>\n",
       "    </tr>\n",
       "  </tbody>\n",
       "</table>\n",
       "<p>1338 rows × 10 columns</p>\n",
       "</div>"
      ],
      "text/plain": [
       "      age  sex       bmi  children  smoker      charges  northeast  northwest  \\\n",
       "0      19  0.0  1.445604         0     1.0  16884.92400        0.0        0.0   \n",
       "1      18  1.0  1.528531         1     0.0   1725.55230        0.0        0.0   \n",
       "2      28  1.0  1.518514         3     0.0   4449.46200        0.0        0.0   \n",
       "3      33  1.0  1.356122         0     0.0  21984.47061        0.0        1.0   \n",
       "4      32  1.0  1.460597         0     0.0   3866.85520        0.0        1.0   \n",
       "...   ...  ...       ...       ...     ...          ...        ...        ...   \n",
       "1333   50  1.0  1.490941         3     0.0  10600.54830        0.0        1.0   \n",
       "1334   18  0.0  1.504063         0     0.0   2205.98080        1.0        0.0   \n",
       "1335   18  0.0  1.566437         0     0.0   1629.83350        0.0        0.0   \n",
       "1336   21  0.0  1.411620         0     0.0   2007.94500        0.0        0.0   \n",
       "1337   61  0.0  1.463445         0     1.0  29141.36030        0.0        1.0   \n",
       "\n",
       "      southeast  southwest  \n",
       "0           0.0        1.0  \n",
       "1           1.0        0.0  \n",
       "2           1.0        0.0  \n",
       "3           0.0        0.0  \n",
       "4           0.0        0.0  \n",
       "...         ...        ...  \n",
       "1333        0.0        0.0  \n",
       "1334        0.0        0.0  \n",
       "1335        1.0        0.0  \n",
       "1336        0.0        1.0  \n",
       "1337        0.0        0.0  \n",
       "\n",
       "[1338 rows x 10 columns]"
      ]
     },
     "execution_count": 50,
     "metadata": {},
     "output_type": "execute_result"
    }
   ],
   "source": [
    "df"
   ]
  },
  {
   "cell_type": "markdown",
   "id": "50b9d5c5",
   "metadata": {},
   "source": [
    "Conclusão:\n",
    "- Criamos novas features a partir de uma feature categórica que indica região!\n",
    "- Retiramos a coluna original que utilizamos no one hot encoder"
   ]
  },
  {
   "cell_type": "markdown",
   "id": "ad89d3b0",
   "metadata": {},
   "source": [
    "### charges"
   ]
  },
  {
   "cell_type": "markdown",
   "id": "15f291e2",
   "metadata": {},
   "source": [
    "Por fim, vamos analisar nosso target e estudar seu comportamento"
   ]
  },
  {
   "cell_type": "code",
   "execution_count": 51,
   "id": "abc7d831",
   "metadata": {},
   "outputs": [
    {
     "data": {
      "text/plain": [
       "count     1338.000000\n",
       "mean     13270.422265\n",
       "std      12110.011237\n",
       "min       1121.873900\n",
       "25%       4740.287150\n",
       "50%       9382.033000\n",
       "75%      16639.912515\n",
       "max      63770.428010\n",
       "Name: charges, dtype: float64"
      ]
     },
     "execution_count": 51,
     "metadata": {},
     "output_type": "execute_result"
    }
   ],
   "source": [
    "df['charges'].describe()"
   ]
  },
  {
   "cell_type": "code",
   "execution_count": 52,
   "id": "5659fed7",
   "metadata": {},
   "outputs": [
    {
     "data": {
      "text/plain": [
       "<AxesSubplot:>"
      ]
     },
     "execution_count": 52,
     "metadata": {},
     "output_type": "execute_result"
    },
    {
     "data": {
      "image/png": "[encoded data removed]",
      "text/plain": [
       "<Figure size 432x288 with 1 Axes>"
      ]
     },
     "metadata": {
      "needs_background": "light"
     },
     "output_type": "display_data"
    }
   ],
   "source": [
    "df['charges'].plot.box()"
   ]
  },
  {
   "cell_type": "markdown",
   "id": "fcef6b69",
   "metadata": {},
   "source": [
    "Note a quantidade de outliers!! Vamos analiser o histograma"
   ]
  },
  {
   "cell_type": "code",
   "execution_count": 53,
   "id": "b264bf94",
   "metadata": {},
   "outputs": [
    {
     "data": {
      "text/plain": [
       "<AxesSubplot:ylabel='Frequency'>"
      ]
     },
     "execution_count": 53,
     "metadata": {},
     "output_type": "execute_result"
    },
    {
     "data": {
      "image/png": "[encoded data removed]",
      "text/plain": [
       "<Figure size 432x288 with 1 Axes>"
      ]
     },
     "metadata": {
      "needs_background": "light"
     },
     "output_type": "display_data"
    }
   ],
   "source": [
    "df['charges'].plot.hist(bins=k)"
   ]
  },
  {
   "cell_type": "markdown",
   "id": "a9304760",
   "metadata": {},
   "source": [
    "Muita assimetria e alguns dados não parecem estar conexos. Vamos tentar aplicar o log"
   ]
  },
  {
   "cell_type": "code",
   "execution_count": 54,
   "id": "5524b8b0",
   "metadata": {},
   "outputs": [
    {
     "data": {
      "text/plain": [
       "<AxesSubplot:ylabel='Frequency'>"
      ]
     },
     "execution_count": 54,
     "metadata": {},
     "output_type": "execute_result"
    },
    {
     "data": {
      "image/png": "[encoded data removed]",
      "text/plain": [
       "<Figure size 432x288 with 1 Axes>"
      ]
     },
     "metadata": {
      "needs_background": "light"
     },
     "output_type": "display_data"
    }
   ],
   "source": [
    "df['charges'].apply(np.log10).plot.hist(bins=k)"
   ]
  },
  {
   "cell_type": "markdown",
   "id": "f0380eae",
   "metadata": {},
   "source": [
    "Nada que ajude muito, mas parece estar mais comportado.\n",
    "\n",
    "\n",
    "Conclusão:\n",
    "- Vamos utilizar o log10 (com dúvidas)."
   ]
  },
  {
   "cell_type": "code",
   "execution_count": 55,
   "id": "64c04ad5",
   "metadata": {},
   "outputs": [],
   "source": [
    "df['charges'] = df['charges'].apply(np.log10)"
   ]
  },
  {
   "cell_type": "code",
   "execution_count": 56,
   "id": "7fb941f8",
   "metadata": {
    "scrolled": true
   },
   "outputs": [
    {
     "data": {
      "text/html": [
       "<div>\n",
       "<style scoped>\n",
       "    .dataframe tbody tr th:only-of-type {\n",
       "        vertical-align: middle;\n",
       "    }\n",
       "\n",
       "    .dataframe tbody tr th {\n",
       "        vertical-align: top;\n",
       "    }\n",
       "\n",
       "    .dataframe thead th {\n",
       "        text-align: right;\n",
       "    }\n",
       "</style>\n",
       "<table border=\"1\" class=\"dataframe\">\n",
       "  <thead>\n",
       "    <tr style=\"text-align: right;\">\n",
       "      <th></th>\n",
       "      <th>age</th>\n",
       "      <th>sex</th>\n",
       "      <th>bmi</th>\n",
       "      <th>children</th>\n",
       "      <th>smoker</th>\n",
       "      <th>charges</th>\n",
       "      <th>northeast</th>\n",
       "      <th>northwest</th>\n",
       "      <th>southeast</th>\n",
       "      <th>southwest</th>\n",
       "    </tr>\n",
       "  </thead>\n",
       "  <tbody>\n",
       "    <tr>\n",
       "      <th>0</th>\n",
       "      <td>19</td>\n",
       "      <td>0.0</td>\n",
       "      <td>1.445604</td>\n",
       "      <td>0</td>\n",
       "      <td>1.0</td>\n",
       "      <td>4.227499</td>\n",
       "      <td>0.0</td>\n",
       "      <td>0.0</td>\n",
       "      <td>0.0</td>\n",
       "      <td>1.0</td>\n",
       "    </tr>\n",
       "    <tr>\n",
       "      <th>1</th>\n",
       "      <td>18</td>\n",
       "      <td>1.0</td>\n",
       "      <td>1.528531</td>\n",
       "      <td>1</td>\n",
       "      <td>0.0</td>\n",
       "      <td>3.236928</td>\n",
       "      <td>0.0</td>\n",
       "      <td>0.0</td>\n",
       "      <td>1.0</td>\n",
       "      <td>0.0</td>\n",
       "    </tr>\n",
       "    <tr>\n",
       "      <th>2</th>\n",
       "      <td>28</td>\n",
       "      <td>1.0</td>\n",
       "      <td>1.518514</td>\n",
       "      <td>3</td>\n",
       "      <td>0.0</td>\n",
       "      <td>3.648308</td>\n",
       "      <td>0.0</td>\n",
       "      <td>0.0</td>\n",
       "      <td>1.0</td>\n",
       "      <td>0.0</td>\n",
       "    </tr>\n",
       "    <tr>\n",
       "      <th>3</th>\n",
       "      <td>33</td>\n",
       "      <td>1.0</td>\n",
       "      <td>1.356122</td>\n",
       "      <td>0</td>\n",
       "      <td>0.0</td>\n",
       "      <td>4.342116</td>\n",
       "      <td>0.0</td>\n",
       "      <td>1.0</td>\n",
       "      <td>0.0</td>\n",
       "      <td>0.0</td>\n",
       "    </tr>\n",
       "    <tr>\n",
       "      <th>4</th>\n",
       "      <td>32</td>\n",
       "      <td>1.0</td>\n",
       "      <td>1.460597</td>\n",
       "      <td>0</td>\n",
       "      <td>0.0</td>\n",
       "      <td>3.587358</td>\n",
       "      <td>0.0</td>\n",
       "      <td>1.0</td>\n",
       "      <td>0.0</td>\n",
       "      <td>0.0</td>\n",
       "    </tr>\n",
       "    <tr>\n",
       "      <th>...</th>\n",
       "      <td>...</td>\n",
       "      <td>...</td>\n",
       "      <td>...</td>\n",
       "      <td>...</td>\n",
       "      <td>...</td>\n",
       "      <td>...</td>\n",
       "      <td>...</td>\n",
       "      <td>...</td>\n",
       "      <td>...</td>\n",
       "      <td>...</td>\n",
       "    </tr>\n",
       "    <tr>\n",
       "      <th>1333</th>\n",
       "      <td>50</td>\n",
       "      <td>1.0</td>\n",
       "      <td>1.490941</td>\n",
       "      <td>3</td>\n",
       "      <td>0.0</td>\n",
       "      <td>4.025328</td>\n",
       "      <td>0.0</td>\n",
       "      <td>1.0</td>\n",
       "      <td>0.0</td>\n",
       "      <td>0.0</td>\n",
       "    </tr>\n",
       "    <tr>\n",
       "      <th>1334</th>\n",
       "      <td>18</td>\n",
       "      <td>0.0</td>\n",
       "      <td>1.504063</td>\n",
       "      <td>0</td>\n",
       "      <td>0.0</td>\n",
       "      <td>3.343602</td>\n",
       "      <td>1.0</td>\n",
       "      <td>0.0</td>\n",
       "      <td>0.0</td>\n",
       "      <td>0.0</td>\n",
       "    </tr>\n",
       "    <tr>\n",
       "      <th>1335</th>\n",
       "      <td>18</td>\n",
       "      <td>0.0</td>\n",
       "      <td>1.566437</td>\n",
       "      <td>0</td>\n",
       "      <td>0.0</td>\n",
       "      <td>3.212143</td>\n",
       "      <td>0.0</td>\n",
       "      <td>0.0</td>\n",
       "      <td>1.0</td>\n",
       "      <td>0.0</td>\n",
       "    </tr>\n",
       "    <tr>\n",
       "      <th>1336</th>\n",
       "      <td>21</td>\n",
       "      <td>0.0</td>\n",
       "      <td>1.411620</td>\n",
       "      <td>0</td>\n",
       "      <td>0.0</td>\n",
       "      <td>3.302752</td>\n",
       "      <td>0.0</td>\n",
       "      <td>0.0</td>\n",
       "      <td>0.0</td>\n",
       "      <td>1.0</td>\n",
       "    </tr>\n",
       "    <tr>\n",
       "      <th>1337</th>\n",
       "      <td>61</td>\n",
       "      <td>0.0</td>\n",
       "      <td>1.463445</td>\n",
       "      <td>0</td>\n",
       "      <td>1.0</td>\n",
       "      <td>4.464510</td>\n",
       "      <td>0.0</td>\n",
       "      <td>1.0</td>\n",
       "      <td>0.0</td>\n",
       "      <td>0.0</td>\n",
       "    </tr>\n",
       "  </tbody>\n",
       "</table>\n",
       "<p>1338 rows × 10 columns</p>\n",
       "</div>"
      ],
      "text/plain": [
       "      age  sex       bmi  children  smoker   charges  northeast  northwest  \\\n",
       "0      19  0.0  1.445604         0     1.0  4.227499        0.0        0.0   \n",
       "1      18  1.0  1.528531         1     0.0  3.236928        0.0        0.0   \n",
       "2      28  1.0  1.518514         3     0.0  3.648308        0.0        0.0   \n",
       "3      33  1.0  1.356122         0     0.0  4.342116        0.0        1.0   \n",
       "4      32  1.0  1.460597         0     0.0  3.587358        0.0        1.0   \n",
       "...   ...  ...       ...       ...     ...       ...        ...        ...   \n",
       "1333   50  1.0  1.490941         3     0.0  4.025328        0.0        1.0   \n",
       "1334   18  0.0  1.504063         0     0.0  3.343602        1.0        0.0   \n",
       "1335   18  0.0  1.566437         0     0.0  3.212143        0.0        0.0   \n",
       "1336   21  0.0  1.411620         0     0.0  3.302752        0.0        0.0   \n",
       "1337   61  0.0  1.463445         0     1.0  4.464510        0.0        1.0   \n",
       "\n",
       "      southeast  southwest  \n",
       "0           0.0        1.0  \n",
       "1           1.0        0.0  \n",
       "2           1.0        0.0  \n",
       "3           0.0        0.0  \n",
       "4           0.0        0.0  \n",
       "...         ...        ...  \n",
       "1333        0.0        0.0  \n",
       "1334        0.0        0.0  \n",
       "1335        1.0        0.0  \n",
       "1336        0.0        1.0  \n",
       "1337        0.0        0.0  \n",
       "\n",
       "[1338 rows x 10 columns]"
      ]
     },
     "execution_count": 56,
     "metadata": {},
     "output_type": "execute_result"
    }
   ],
   "source": [
    "df"
   ]
  },
  {
   "cell_type": "markdown",
   "id": "740b74bf",
   "metadata": {},
   "source": [
    "## Checar Correlação e importância de features"
   ]
  },
  {
   "cell_type": "code",
   "execution_count": 57,
   "id": "87ed37f8",
   "metadata": {
    "scrolled": true
   },
   "outputs": [
    {
     "data": {
      "text/html": [
       "<div>\n",
       "<style scoped>\n",
       "    .dataframe tbody tr th:only-of-type {\n",
       "        vertical-align: middle;\n",
       "    }\n",
       "\n",
       "    .dataframe tbody tr th {\n",
       "        vertical-align: top;\n",
       "    }\n",
       "\n",
       "    .dataframe thead th {\n",
       "        text-align: right;\n",
       "    }\n",
       "</style>\n",
       "<table border=\"1\" class=\"dataframe\">\n",
       "  <thead>\n",
       "    <tr style=\"text-align: right;\">\n",
       "      <th></th>\n",
       "      <th>age</th>\n",
       "      <th>sex</th>\n",
       "      <th>bmi</th>\n",
       "      <th>children</th>\n",
       "      <th>smoker</th>\n",
       "      <th>charges</th>\n",
       "      <th>northeast</th>\n",
       "      <th>northwest</th>\n",
       "      <th>southeast</th>\n",
       "      <th>southwest</th>\n",
       "    </tr>\n",
       "  </thead>\n",
       "  <tbody>\n",
       "    <tr>\n",
       "      <th>age</th>\n",
       "      <td>1.000000</td>\n",
       "      <td>-0.020856</td>\n",
       "      <td>0.116146</td>\n",
       "      <td>0.042469</td>\n",
       "      <td>-0.025019</td>\n",
       "      <td>0.527834</td>\n",
       "      <td>0.002475</td>\n",
       "      <td>-0.000407</td>\n",
       "      <td>-0.011642</td>\n",
       "      <td>0.010016</td>\n",
       "    </tr>\n",
       "    <tr>\n",
       "      <th>sex</th>\n",
       "      <td>-0.020856</td>\n",
       "      <td>1.000000</td>\n",
       "      <td>0.046075</td>\n",
       "      <td>0.017163</td>\n",
       "      <td>0.076185</td>\n",
       "      <td>0.005632</td>\n",
       "      <td>-0.002425</td>\n",
       "      <td>-0.011156</td>\n",
       "      <td>0.017117</td>\n",
       "      <td>-0.004184</td>\n",
       "    </tr>\n",
       "    <tr>\n",
       "      <th>bmi</th>\n",
       "      <td>0.116146</td>\n",
       "      <td>0.046075</td>\n",
       "      <td>1.000000</td>\n",
       "      <td>0.013058</td>\n",
       "      <td>0.000366</td>\n",
       "      <td>0.137924</td>\n",
       "      <td>-0.141961</td>\n",
       "      <td>-0.125392</td>\n",
       "      <td>0.257012</td>\n",
       "      <td>0.000496</td>\n",
       "    </tr>\n",
       "    <tr>\n",
       "      <th>children</th>\n",
       "      <td>0.042469</td>\n",
       "      <td>0.017163</td>\n",
       "      <td>0.013058</td>\n",
       "      <td>1.000000</td>\n",
       "      <td>0.007673</td>\n",
       "      <td>0.161336</td>\n",
       "      <td>-0.022808</td>\n",
       "      <td>0.024806</td>\n",
       "      <td>-0.023066</td>\n",
       "      <td>0.021914</td>\n",
       "    </tr>\n",
       "    <tr>\n",
       "      <th>smoker</th>\n",
       "      <td>-0.025019</td>\n",
       "      <td>0.076185</td>\n",
       "      <td>0.000366</td>\n",
       "      <td>0.007673</td>\n",
       "      <td>1.000000</td>\n",
       "      <td>0.665506</td>\n",
       "      <td>0.002811</td>\n",
       "      <td>-0.036945</td>\n",
       "      <td>0.068498</td>\n",
       "      <td>-0.036945</td>\n",
       "    </tr>\n",
       "    <tr>\n",
       "      <th>charges</th>\n",
       "      <td>0.527834</td>\n",
       "      <td>0.005632</td>\n",
       "      <td>0.137924</td>\n",
       "      <td>0.161336</td>\n",
       "      <td>0.665506</td>\n",
       "      <td>1.000000</td>\n",
       "      <td>0.043115</td>\n",
       "      <td>-0.017824</td>\n",
       "      <td>0.015791</td>\n",
       "      <td>-0.041632</td>\n",
       "    </tr>\n",
       "    <tr>\n",
       "      <th>northeast</th>\n",
       "      <td>0.002475</td>\n",
       "      <td>-0.002425</td>\n",
       "      <td>-0.141961</td>\n",
       "      <td>-0.022808</td>\n",
       "      <td>0.002811</td>\n",
       "      <td>0.043115</td>\n",
       "      <td>1.000000</td>\n",
       "      <td>-0.320177</td>\n",
       "      <td>-0.345561</td>\n",
       "      <td>-0.320177</td>\n",
       "    </tr>\n",
       "    <tr>\n",
       "      <th>northwest</th>\n",
       "      <td>-0.000407</td>\n",
       "      <td>-0.011156</td>\n",
       "      <td>-0.125392</td>\n",
       "      <td>0.024806</td>\n",
       "      <td>-0.036945</td>\n",
       "      <td>-0.017824</td>\n",
       "      <td>-0.320177</td>\n",
       "      <td>1.000000</td>\n",
       "      <td>-0.346265</td>\n",
       "      <td>-0.320829</td>\n",
       "    </tr>\n",
       "    <tr>\n",
       "      <th>southeast</th>\n",
       "      <td>-0.011642</td>\n",
       "      <td>0.017117</td>\n",
       "      <td>0.257012</td>\n",
       "      <td>-0.023066</td>\n",
       "      <td>0.068498</td>\n",
       "      <td>0.015791</td>\n",
       "      <td>-0.345561</td>\n",
       "      <td>-0.346265</td>\n",
       "      <td>1.000000</td>\n",
       "      <td>-0.346265</td>\n",
       "    </tr>\n",
       "    <tr>\n",
       "      <th>southwest</th>\n",
       "      <td>0.010016</td>\n",
       "      <td>-0.004184</td>\n",
       "      <td>0.000496</td>\n",
       "      <td>0.021914</td>\n",
       "      <td>-0.036945</td>\n",
       "      <td>-0.041632</td>\n",
       "      <td>-0.320177</td>\n",
       "      <td>-0.320829</td>\n",
       "      <td>-0.346265</td>\n",
       "      <td>1.000000</td>\n",
       "    </tr>\n",
       "  </tbody>\n",
       "</table>\n",
       "</div>"
      ],
      "text/plain": [
       "                age       sex       bmi  children    smoker   charges  \\\n",
       "age        1.000000 -0.020856  0.116146  0.042469 -0.025019  0.527834   \n",
       "sex       -0.020856  1.000000  0.046075  0.017163  0.076185  0.005632   \n",
       "bmi        0.116146  0.046075  1.000000  0.013058  0.000366  0.137924   \n",
       "children   0.042469  0.017163  0.013058  1.000000  0.007673  0.161336   \n",
       "smoker    -0.025019  0.076185  0.000366  0.007673  1.000000  0.665506   \n",
       "charges    0.527834  0.005632  0.137924  0.161336  0.665506  1.000000   \n",
       "northeast  0.002475 -0.002425 -0.141961 -0.022808  0.002811  0.043115   \n",
       "northwest -0.000407 -0.011156 -0.125392  0.024806 -0.036945 -0.017824   \n",
       "southeast -0.011642  0.017117  0.257012 -0.023066  0.068498  0.015791   \n",
       "southwest  0.010016 -0.004184  0.000496  0.021914 -0.036945 -0.041632   \n",
       "\n",
       "           northeast  northwest  southeast  southwest  \n",
       "age         0.002475  -0.000407  -0.011642   0.010016  \n",
       "sex        -0.002425  -0.011156   0.017117  -0.004184  \n",
       "bmi        -0.141961  -0.125392   0.257012   0.000496  \n",
       "children   -0.022808   0.024806  -0.023066   0.021914  \n",
       "smoker      0.002811  -0.036945   0.068498  -0.036945  \n",
       "charges     0.043115  -0.017824   0.015791  -0.041632  \n",
       "northeast   1.000000  -0.320177  -0.345561  -0.320177  \n",
       "northwest  -0.320177   1.000000  -0.346265  -0.320829  \n",
       "southeast  -0.345561  -0.346265   1.000000  -0.346265  \n",
       "southwest  -0.320177  -0.320829  -0.346265   1.000000  "
      ]
     },
     "execution_count": 57,
     "metadata": {},
     "output_type": "execute_result"
    }
   ],
   "source": [
    "df.corr().transpose()"
   ]
  },
  {
   "cell_type": "markdown",
   "id": "2eb13638",
   "metadata": {},
   "source": [
    "### Graficamente"
   ]
  },
  {
   "cell_type": "code",
   "execution_count": 58,
   "id": "7abd4a32",
   "metadata": {},
   "outputs": [],
   "source": [
    "import seaborn as sns"
   ]
  },
  {
   "cell_type": "code",
   "execution_count": 59,
   "id": "fbe61a42",
   "metadata": {},
   "outputs": [
    {
     "data": {
      "image/png": "[encoded data removed]",
      "text/plain": [
       "<Figure size 1008x1008 with 2 Axes>"
      ]
     },
     "metadata": {
      "needs_background": "light"
     },
     "output_type": "display_data"
    }
   ],
   "source": [
    "# compute the correlation matrix\n",
    "columns_corr = [ \n",
    "                 'age',\n",
    "                 'sex',\n",
    "                 'bmi',\n",
    "                 'children',\n",
    "                 'smoker',\n",
    "                 'northeast',\n",
    "                 'northwest',\n",
    "                 'southeast',\n",
    "                 'southwest',\n",
    "                 'charges'\n",
    "               ]\n",
    "\n",
    "corr = df[columns_corr].corr()\n",
    "\n",
    "# Set up the matplotlib figure\n",
    "f, ax = plt.subplots(figsize=(14,14))\n",
    "\n",
    "# Generate a custom diverging colormap\n",
    "cmap = sns.diverging_palette(230, 20, as_cmap=True)\n",
    "\n",
    "# Draw the heatmap with the mask and correct aspect ratio\n",
    "colormap = sns.heatmap(corr, \n",
    "                       annot=True,\n",
    "                       annot_kws ={'size':15},\n",
    "                       cmap=cmap, \n",
    "                       vmax=1, \n",
    "                       center=0,\n",
    "                       square=True, \n",
    "                       linewidths=2, \n",
    "                       cbar_kws={\"shrink\": .9})\n",
    "\n",
    "colormap.set_xticklabels(colormap.get_xmajorticklabels(), fontsize=18, rotation=45)\n",
    "colormap.set_yticklabels(colormap.get_ymajorticklabels(), fontsize=18, rotation=0)\n",
    "\n",
    "plt.title('Correlations between features and target', size = 20);"
   ]
  },
  {
   "cell_type": "markdown",
   "id": "b7ddaa58",
   "metadata": {},
   "source": [
    "Analisando o mapa de calor, é possível visualizar que a região não influencia muito."
   ]
  },
  {
   "cell_type": "markdown",
   "id": "2d437607",
   "metadata": {},
   "source": [
    "Conclusão:\n",
    "- Vamos descartar as features de menores relavância e ficar com as de maiores correlações:\n",
    "    - smoker\n",
    "    - children\n",
    "    - bmi\n",
    "    - age"
   ]
  },
  {
   "cell_type": "markdown",
   "id": "d67f3712",
   "metadata": {},
   "source": [
    "# Construção de modelo"
   ]
  },
  {
   "cell_type": "code",
   "execution_count": 60,
   "id": "c49aab97",
   "metadata": {},
   "outputs": [],
   "source": [
    "from sklearn.model_selection import learning_curve"
   ]
  },
  {
   "cell_type": "code",
   "execution_count": 61,
   "id": "29d3463a",
   "metadata": {},
   "outputs": [
    {
     "data": {
      "text/plain": [
       "['age', 'bmi', 'children', 'smoker']"
      ]
     },
     "execution_count": 61,
     "metadata": {},
     "output_type": "execute_result"
    }
   ],
   "source": [
    "columns = df.columns\n",
    "columns_to_keep = ['smoker', 'children', 'bmi', 'age']\n",
    "features = [x for x in columns if x in columns_to_keep]\n",
    "features"
   ]
  },
  {
   "cell_type": "code",
   "execution_count": 62,
   "id": "e8996cf8",
   "metadata": {},
   "outputs": [],
   "source": [
    "X, y = df[features], df['charges']"
   ]
  },
  {
   "cell_type": "code",
   "execution_count": 63,
   "id": "95ca3bc8",
   "metadata": {},
   "outputs": [],
   "source": [
    "def evaluate_models(algorithm, X, y):\n",
    "    \n",
    "    # Learning curve\n",
    "    N, train_score, val_score = learning_curve(\n",
    "        algorithm, X, y,\n",
    "        cv=5, scoring='r2',\n",
    "        train_sizes=np.linspace(0.1, 1, 10)\n",
    "    )\n",
    "    \n",
    "    # Plot the learning curve\n",
    "    plt.figure(figsize=(8, 3))\n",
    "    plt.plot(N, train_score.mean(axis=1), label='train_score')\n",
    "    plt.plot(N, val_score.mean(axis=1), label='val_score')\n",
    "    plt.legend()\n",
    "    plt.title(f'{algorithm}', fontsize=18)\n",
    "    \n",
    "#     train_scores.append(train_score[-1].mean())\n",
    "#     val_scores.append(val_score[-1].mean())\n",
    "    \n",
    "    # Print the results\n",
    "    print(f'{algorithm}')\n",
    "    print(\"train_score =\", \"%0.3f\" % train_score[-1].mean())\n",
    "    print(\"val_score =\", \"%0.3f\" % val_score[-1].mean())\n",
    "    plt.show()\n",
    "    print(\"-\"*20)"
   ]
  },
  {
   "cell_type": "markdown",
   "id": "3d13112f",
   "metadata": {},
   "source": [
    "## 1) Vamos dividir o data set em train-test-val"
   ]
  },
  {
   "cell_type": "code",
   "execution_count": 64,
   "id": "5826655b",
   "metadata": {},
   "outputs": [],
   "source": [
    "from sklearn.pipeline import Pipeline\n",
    "from sklearn.preprocessing import StandardScaler\n",
    "from sklearn.impute import SimpleImputer"
   ]
  },
  {
   "cell_type": "code",
   "execution_count": 65,
   "id": "1eb6db75",
   "metadata": {},
   "outputs": [],
   "source": [
    "num_pipeline = Pipeline([\n",
    "    ('imputer', SimpleImputer(strategy='median')),\n",
    "    ('std_scaler', StandardScaler()),\n",
    "])"
   ]
  },
  {
   "cell_type": "code",
   "execution_count": 66,
   "id": "ba9014e0",
   "metadata": {},
   "outputs": [
    {
     "data": {
      "text/html": [
       "<div>\n",
       "<style scoped>\n",
       "    .dataframe tbody tr th:only-of-type {\n",
       "        vertical-align: middle;\n",
       "    }\n",
       "\n",
       "    .dataframe tbody tr th {\n",
       "        vertical-align: top;\n",
       "    }\n",
       "\n",
       "    .dataframe thead th {\n",
       "        text-align: right;\n",
       "    }\n",
       "</style>\n",
       "<table border=\"1\" class=\"dataframe\">\n",
       "  <thead>\n",
       "    <tr style=\"text-align: right;\">\n",
       "      <th></th>\n",
       "      <th>age</th>\n",
       "      <th>bmi</th>\n",
       "      <th>children</th>\n",
       "      <th>smoker</th>\n",
       "    </tr>\n",
       "  </thead>\n",
       "  <tbody>\n",
       "    <tr>\n",
       "      <th>0</th>\n",
       "      <td>-1.438764</td>\n",
       "      <td>-0.367160</td>\n",
       "      <td>-0.908614</td>\n",
       "      <td>1.970587</td>\n",
       "    </tr>\n",
       "    <tr>\n",
       "      <th>1</th>\n",
       "      <td>-1.509965</td>\n",
       "      <td>0.576175</td>\n",
       "      <td>-0.078767</td>\n",
       "      <td>-0.507463</td>\n",
       "    </tr>\n",
       "    <tr>\n",
       "      <th>2</th>\n",
       "      <td>-0.797954</td>\n",
       "      <td>0.462225</td>\n",
       "      <td>1.580926</td>\n",
       "      <td>-0.507463</td>\n",
       "    </tr>\n",
       "    <tr>\n",
       "      <th>3</th>\n",
       "      <td>-0.441948</td>\n",
       "      <td>-1.385070</td>\n",
       "      <td>-0.908614</td>\n",
       "      <td>-0.507463</td>\n",
       "    </tr>\n",
       "    <tr>\n",
       "      <th>4</th>\n",
       "      <td>-0.513149</td>\n",
       "      <td>-0.196607</td>\n",
       "      <td>-0.908614</td>\n",
       "      <td>-0.507463</td>\n",
       "    </tr>\n",
       "    <tr>\n",
       "      <th>...</th>\n",
       "      <td>...</td>\n",
       "      <td>...</td>\n",
       "      <td>...</td>\n",
       "      <td>...</td>\n",
       "    </tr>\n",
       "    <tr>\n",
       "      <th>1333</th>\n",
       "      <td>0.768473</td>\n",
       "      <td>0.148571</td>\n",
       "      <td>1.580926</td>\n",
       "      <td>-0.507463</td>\n",
       "    </tr>\n",
       "    <tr>\n",
       "      <th>1334</th>\n",
       "      <td>-1.509965</td>\n",
       "      <td>0.297837</td>\n",
       "      <td>-0.908614</td>\n",
       "      <td>-0.507463</td>\n",
       "    </tr>\n",
       "    <tr>\n",
       "      <th>1335</th>\n",
       "      <td>-1.509965</td>\n",
       "      <td>1.007379</td>\n",
       "      <td>-0.908614</td>\n",
       "      <td>-0.507463</td>\n",
       "    </tr>\n",
       "    <tr>\n",
       "      <th>1336</th>\n",
       "      <td>-1.296362</td>\n",
       "      <td>-0.753751</td>\n",
       "      <td>-0.908614</td>\n",
       "      <td>-0.507463</td>\n",
       "    </tr>\n",
       "    <tr>\n",
       "      <th>1337</th>\n",
       "      <td>1.551686</td>\n",
       "      <td>-0.164212</td>\n",
       "      <td>-0.908614</td>\n",
       "      <td>1.970587</td>\n",
       "    </tr>\n",
       "  </tbody>\n",
       "</table>\n",
       "<p>1338 rows × 4 columns</p>\n",
       "</div>"
      ],
      "text/plain": [
       "           age       bmi  children    smoker\n",
       "0    -1.438764 -0.367160 -0.908614  1.970587\n",
       "1    -1.509965  0.576175 -0.078767 -0.507463\n",
       "2    -0.797954  0.462225  1.580926 -0.507463\n",
       "3    -0.441948 -1.385070 -0.908614 -0.507463\n",
       "4    -0.513149 -0.196607 -0.908614 -0.507463\n",
       "...        ...       ...       ...       ...\n",
       "1333  0.768473  0.148571  1.580926 -0.507463\n",
       "1334 -1.509965  0.297837 -0.908614 -0.507463\n",
       "1335 -1.509965  1.007379 -0.908614 -0.507463\n",
       "1336 -1.296362 -0.753751 -0.908614 -0.507463\n",
       "1337  1.551686 -0.164212 -0.908614  1.970587\n",
       "\n",
       "[1338 rows x 4 columns]"
      ]
     },
     "execution_count": 66,
     "metadata": {},
     "output_type": "execute_result"
    }
   ],
   "source": [
    "X_scaled = num_pipeline.fit_transform(X)\n",
    "X_scaled = pd.DataFrame(X_scaled, columns=X.columns)\n",
    "X_scaled"
   ]
  },
  {
   "cell_type": "code",
   "execution_count": 67,
   "id": "62fb9f51",
   "metadata": {},
   "outputs": [
    {
     "data": {
      "text/plain": [
       "0       4.227499\n",
       "1       3.236928\n",
       "2       3.648308\n",
       "3       4.342116\n",
       "4       3.587358\n",
       "          ...   \n",
       "1333    4.025328\n",
       "1334    3.343602\n",
       "1335    3.212143\n",
       "1336    3.302752\n",
       "1337    4.464510\n",
       "Name: charges, Length: 1338, dtype: float64"
      ]
     },
     "execution_count": 67,
     "metadata": {},
     "output_type": "execute_result"
    }
   ],
   "source": [
    "y"
   ]
  },
  {
   "cell_type": "code",
   "execution_count": 68,
   "id": "2c20db1d",
   "metadata": {},
   "outputs": [],
   "source": [
    "from sklearn.model_selection import train_test_split"
   ]
  },
  {
   "cell_type": "code",
   "execution_count": 69,
   "id": "a910ef22",
   "metadata": {},
   "outputs": [],
   "source": [
    "X_train_val, X_test, y_train_val, y_test = train_test_split(X_scaled, y, random_state=42, test_size=0.25)"
   ]
  },
  {
   "cell_type": "code",
   "execution_count": 70,
   "id": "b8f1b923",
   "metadata": {},
   "outputs": [],
   "source": [
    "X_train, X_val, y_train, y_val = train_test_split(X_train_val,\n",
    "                                                  y_train_val,\n",
    "                                                  test_size=0.25,\n",
    "                                                  random_state=52)"
   ]
  },
  {
   "cell_type": "markdown",
   "id": "2c3cc813",
   "metadata": {},
   "source": [
    "## 2) Construindo um modelo de regressão linear simples"
   ]
  },
  {
   "cell_type": "code",
   "execution_count": 71,
   "id": "b1fc54e4",
   "metadata": {},
   "outputs": [],
   "source": [
    "from sklearn.linear_model import LinearRegression"
   ]
  },
  {
   "cell_type": "code",
   "execution_count": 72,
   "id": "f1d4a06b",
   "metadata": {},
   "outputs": [],
   "source": [
    "model_lr = LinearRegression()"
   ]
  },
  {
   "cell_type": "code",
   "execution_count": 73,
   "id": "cab6e10e",
   "metadata": {
    "scrolled": true
   },
   "outputs": [
    {
     "data": {
      "text/plain": [
       "LinearRegression()"
      ]
     },
     "execution_count": 73,
     "metadata": {},
     "output_type": "execute_result"
    }
   ],
   "source": [
    "model_lr.fit(X_train, y_train)"
   ]
  },
  {
   "cell_type": "code",
   "execution_count": 74,
   "id": "13445a8f",
   "metadata": {},
   "outputs": [
    {
     "data": {
      "text/plain": [
       "0.770588018186507"
      ]
     },
     "execution_count": 74,
     "metadata": {},
     "output_type": "execute_result"
    }
   ],
   "source": [
    "# Score R^2 para conjunto de test\n",
    "model_lr.score(X_test, y_test)"
   ]
  },
  {
   "cell_type": "code",
   "execution_count": 75,
   "id": "a9eddf11",
   "metadata": {},
   "outputs": [
    {
     "data": {
      "text/plain": [
       "0.7563845505142128"
      ]
     },
     "execution_count": 75,
     "metadata": {},
     "output_type": "execute_result"
    }
   ],
   "source": [
    "# Score R^2 para conjunto de treinamento\n",
    "model_lr.score(X_train, y_train)"
   ]
  },
  {
   "cell_type": "code",
   "execution_count": 76,
   "id": "e8f9faa3",
   "metadata": {},
   "outputs": [],
   "source": [
    "y_pred = model_lr.predict(X_val)"
   ]
  },
  {
   "cell_type": "code",
   "execution_count": 77,
   "id": "c7a6cbd3",
   "metadata": {},
   "outputs": [
    {
     "data": {
      "image/png": "[encoded data removed]",
      "text/plain": [
       "<Figure size 432x288 with 1 Axes>"
      ]
     },
     "metadata": {
      "needs_background": "light"
     },
     "output_type": "display_data"
    }
   ],
   "source": [
    "plt.plot(y_val, y_pred, 'b.', alpha=0.5);"
   ]
  },
  {
   "cell_type": "code",
   "execution_count": 78,
   "id": "e4661350",
   "metadata": {},
   "outputs": [],
   "source": [
    "from sklearn.metrics import mean_squared_error"
   ]
  },
  {
   "cell_type": "code",
   "execution_count": 79,
   "id": "9818a696",
   "metadata": {},
   "outputs": [
    {
     "name": "stdout",
     "output_type": "stream",
     "text": [
      "LinearRegression()\n",
      "train_score = 0.763\n",
      "val_score = 0.760\n"
     ]
    },
    {
     "data": {
      "image/png": "[encoded data removed]",
      "text/plain": [
       "<Figure size 576x216 with 1 Axes>"
      ]
     },
     "metadata": {
      "needs_background": "light"
     },
     "output_type": "display_data"
    },
    {
     "name": "stdout",
     "output_type": "stream",
     "text": [
      "--------------------\n"
     ]
    }
   ],
   "source": [
    "evaluate_models(model_lr, X_scaled, y)"
   ]
  },
  {
   "cell_type": "markdown",
   "id": "31eeec05",
   "metadata": {},
   "source": [
    "## 3) Construindo um modelo de SGDregressor"
   ]
  },
  {
   "cell_type": "code",
   "execution_count": 80,
   "id": "206eee73",
   "metadata": {},
   "outputs": [],
   "source": [
    "from sklearn.linear_model import SGDRegressor"
   ]
  },
  {
   "cell_type": "code",
   "execution_count": 81,
   "id": "3398b87c",
   "metadata": {},
   "outputs": [],
   "source": [
    "model_sgd = SGDRegressor()"
   ]
  },
  {
   "cell_type": "code",
   "execution_count": 82,
   "id": "1d8d98f9",
   "metadata": {},
   "outputs": [
    {
     "data": {
      "text/plain": [
       "SGDRegressor()"
      ]
     },
     "execution_count": 82,
     "metadata": {},
     "output_type": "execute_result"
    }
   ],
   "source": [
    "model_sgd.fit(X_train, y_train)"
   ]
  },
  {
   "cell_type": "code",
   "execution_count": 83,
   "id": "b42a2fe7",
   "metadata": {},
   "outputs": [
    {
     "data": {
      "text/html": [
       "<div>\n",
       "<style scoped>\n",
       "    .dataframe tbody tr th:only-of-type {\n",
       "        vertical-align: middle;\n",
       "    }\n",
       "\n",
       "    .dataframe tbody tr th {\n",
       "        vertical-align: top;\n",
       "    }\n",
       "\n",
       "    .dataframe thead th {\n",
       "        text-align: right;\n",
       "    }\n",
       "</style>\n",
       "<table border=\"1\" class=\"dataframe\">\n",
       "  <thead>\n",
       "    <tr style=\"text-align: right;\">\n",
       "      <th></th>\n",
       "      <th>age</th>\n",
       "      <th>bmi</th>\n",
       "      <th>children</th>\n",
       "      <th>smoker</th>\n",
       "    </tr>\n",
       "  </thead>\n",
       "  <tbody>\n",
       "    <tr>\n",
       "      <th>3</th>\n",
       "      <td>-0.441948</td>\n",
       "      <td>-1.385070</td>\n",
       "      <td>-0.908614</td>\n",
       "      <td>-0.507463</td>\n",
       "    </tr>\n",
       "    <tr>\n",
       "      <th>112</th>\n",
       "      <td>-0.157143</td>\n",
       "      <td>0.121378</td>\n",
       "      <td>-0.908614</td>\n",
       "      <td>-0.507463</td>\n",
       "    </tr>\n",
       "    <tr>\n",
       "      <th>1034</th>\n",
       "      <td>1.551686</td>\n",
       "      <td>1.208356</td>\n",
       "      <td>-0.908614</td>\n",
       "      <td>-0.507463</td>\n",
       "    </tr>\n",
       "    <tr>\n",
       "      <th>965</th>\n",
       "      <td>-0.299545</td>\n",
       "      <td>-0.510888</td>\n",
       "      <td>-0.078767</td>\n",
       "      <td>-0.507463</td>\n",
       "    </tr>\n",
       "    <tr>\n",
       "      <th>651</th>\n",
       "      <td>0.982076</td>\n",
       "      <td>1.362951</td>\n",
       "      <td>-0.078767</td>\n",
       "      <td>-0.507463</td>\n",
       "    </tr>\n",
       "    <tr>\n",
       "      <th>...</th>\n",
       "      <td>...</td>\n",
       "      <td>...</td>\n",
       "      <td>...</td>\n",
       "      <td>...</td>\n",
       "    </tr>\n",
       "    <tr>\n",
       "      <th>409</th>\n",
       "      <td>-0.513149</td>\n",
       "      <td>-0.003700</td>\n",
       "      <td>-0.078767</td>\n",
       "      <td>-0.507463</td>\n",
       "    </tr>\n",
       "    <tr>\n",
       "      <th>423</th>\n",
       "      <td>-1.011557</td>\n",
       "      <td>0.087579</td>\n",
       "      <td>-0.908614</td>\n",
       "      <td>-0.507463</td>\n",
       "    </tr>\n",
       "    <tr>\n",
       "      <th>417</th>\n",
       "      <td>-0.228344</td>\n",
       "      <td>-1.407970</td>\n",
       "      <td>0.751079</td>\n",
       "      <td>1.970587</td>\n",
       "    </tr>\n",
       "    <tr>\n",
       "      <th>586</th>\n",
       "      <td>-1.296362</td>\n",
       "      <td>-1.954054</td>\n",
       "      <td>1.580926</td>\n",
       "      <td>-0.507463</td>\n",
       "    </tr>\n",
       "    <tr>\n",
       "      <th>619</th>\n",
       "      <td>1.124479</td>\n",
       "      <td>1.040782</td>\n",
       "      <td>-0.908614</td>\n",
       "      <td>-0.507463</td>\n",
       "    </tr>\n",
       "  </tbody>\n",
       "</table>\n",
       "<p>752 rows × 4 columns</p>\n",
       "</div>"
      ],
      "text/plain": [
       "           age       bmi  children    smoker\n",
       "3    -0.441948 -1.385070 -0.908614 -0.507463\n",
       "112  -0.157143  0.121378 -0.908614 -0.507463\n",
       "1034  1.551686  1.208356 -0.908614 -0.507463\n",
       "965  -0.299545 -0.510888 -0.078767 -0.507463\n",
       "651   0.982076  1.362951 -0.078767 -0.507463\n",
       "...        ...       ...       ...       ...\n",
       "409  -0.513149 -0.003700 -0.078767 -0.507463\n",
       "423  -1.011557  0.087579 -0.908614 -0.507463\n",
       "417  -0.228344 -1.407970  0.751079  1.970587\n",
       "586  -1.296362 -1.954054  1.580926 -0.507463\n",
       "619   1.124479  1.040782 -0.908614 -0.507463\n",
       "\n",
       "[752 rows x 4 columns]"
      ]
     },
     "execution_count": 83,
     "metadata": {},
     "output_type": "execute_result"
    }
   ],
   "source": [
    "X_train"
   ]
  },
  {
   "cell_type": "code",
   "execution_count": 84,
   "id": "e2ec8a48",
   "metadata": {
    "scrolled": false
   },
   "outputs": [
    {
     "name": "stdout",
     "output_type": "stream",
     "text": [
      "SGDRegressor()\n",
      "train_score = 0.763\n",
      "val_score = 0.760\n"
     ]
    },
    {
     "data": {
      "image/png": "[encoded data removed]",
      "text/plain": [
       "<Figure size 576x216 with 1 Axes>"
      ]
     },
     "metadata": {
      "needs_background": "light"
     },
     "output_type": "display_data"
    },
    {
     "name": "stdout",
     "output_type": "stream",
     "text": [
      "--------------------\n"
     ]
    }
   ],
   "source": [
    "evaluate_models(model_sgd, X_scaled, y)"
   ]
  },
  {
   "cell_type": "code",
   "execution_count": 85,
   "id": "0924ea50",
   "metadata": {},
   "outputs": [
    {
     "data": {
      "text/html": [
       "<div>\n",
       "<style scoped>\n",
       "    .dataframe tbody tr th:only-of-type {\n",
       "        vertical-align: middle;\n",
       "    }\n",
       "\n",
       "    .dataframe tbody tr th {\n",
       "        vertical-align: top;\n",
       "    }\n",
       "\n",
       "    .dataframe thead th {\n",
       "        text-align: right;\n",
       "    }\n",
       "</style>\n",
       "<table border=\"1\" class=\"dataframe\">\n",
       "  <thead>\n",
       "    <tr style=\"text-align: right;\">\n",
       "      <th></th>\n",
       "      <th>age</th>\n",
       "      <th>bmi</th>\n",
       "      <th>children</th>\n",
       "      <th>smoker</th>\n",
       "    </tr>\n",
       "  </thead>\n",
       "  <tbody>\n",
       "    <tr>\n",
       "      <th>764</th>\n",
       "      <td>0.412467</td>\n",
       "      <td>-0.874902</td>\n",
       "      <td>0.751079</td>\n",
       "      <td>-0.507463</td>\n",
       "    </tr>\n",
       "    <tr>\n",
       "      <th>887</th>\n",
       "      <td>-0.228344</td>\n",
       "      <td>-0.005345</td>\n",
       "      <td>-0.908614</td>\n",
       "      <td>-0.507463</td>\n",
       "    </tr>\n",
       "    <tr>\n",
       "      <th>890</th>\n",
       "      <td>1.765289</td>\n",
       "      <td>-0.550239</td>\n",
       "      <td>-0.908614</td>\n",
       "      <td>1.970587</td>\n",
       "    </tr>\n",
       "    <tr>\n",
       "      <th>1293</th>\n",
       "      <td>0.483668</td>\n",
       "      <td>-0.764293</td>\n",
       "      <td>1.580926</td>\n",
       "      <td>-0.507463</td>\n",
       "    </tr>\n",
       "    <tr>\n",
       "      <th>259</th>\n",
       "      <td>-1.438764</td>\n",
       "      <td>0.297837</td>\n",
       "      <td>-0.908614</td>\n",
       "      <td>1.970587</td>\n",
       "    </tr>\n",
       "    <tr>\n",
       "      <th>...</th>\n",
       "      <td>...</td>\n",
       "      <td>...</td>\n",
       "      <td>...</td>\n",
       "      <td>...</td>\n",
       "    </tr>\n",
       "    <tr>\n",
       "      <th>342</th>\n",
       "      <td>1.480485</td>\n",
       "      <td>-0.429527</td>\n",
       "      <td>-0.908614</td>\n",
       "      <td>-0.507463</td>\n",
       "    </tr>\n",
       "    <tr>\n",
       "      <th>308</th>\n",
       "      <td>1.338082</td>\n",
       "      <td>0.733823</td>\n",
       "      <td>-0.908614</td>\n",
       "      <td>-0.507463</td>\n",
       "    </tr>\n",
       "    <tr>\n",
       "      <th>1128</th>\n",
       "      <td>-0.370746</td>\n",
       "      <td>0.432192</td>\n",
       "      <td>-0.078767</td>\n",
       "      <td>-0.507463</td>\n",
       "    </tr>\n",
       "    <tr>\n",
       "      <th>503</th>\n",
       "      <td>-1.438764</td>\n",
       "      <td>0.032361</td>\n",
       "      <td>-0.908614</td>\n",
       "      <td>1.970587</td>\n",
       "    </tr>\n",
       "    <tr>\n",
       "      <th>1197</th>\n",
       "      <td>0.127662</td>\n",
       "      <td>0.543885</td>\n",
       "      <td>-0.908614</td>\n",
       "      <td>-0.507463</td>\n",
       "    </tr>\n",
       "  </tbody>\n",
       "</table>\n",
       "<p>335 rows × 4 columns</p>\n",
       "</div>"
      ],
      "text/plain": [
       "           age       bmi  children    smoker\n",
       "764   0.412467 -0.874902  0.751079 -0.507463\n",
       "887  -0.228344 -0.005345 -0.908614 -0.507463\n",
       "890   1.765289 -0.550239 -0.908614  1.970587\n",
       "1293  0.483668 -0.764293  1.580926 -0.507463\n",
       "259  -1.438764  0.297837 -0.908614  1.970587\n",
       "...        ...       ...       ...       ...\n",
       "342   1.480485 -0.429527 -0.908614 -0.507463\n",
       "308   1.338082  0.733823 -0.908614 -0.507463\n",
       "1128 -0.370746  0.432192 -0.078767 -0.507463\n",
       "503  -1.438764  0.032361 -0.908614  1.970587\n",
       "1197  0.127662  0.543885 -0.908614 -0.507463\n",
       "\n",
       "[335 rows x 4 columns]"
      ]
     },
     "execution_count": 85,
     "metadata": {},
     "output_type": "execute_result"
    }
   ],
   "source": [
    "X_test"
   ]
  },
  {
   "cell_type": "code",
   "execution_count": 86,
   "id": "0d3ff01b",
   "metadata": {},
   "outputs": [
    {
     "data": {
      "text/plain": [
       "0.7705544316290962"
      ]
     },
     "execution_count": 86,
     "metadata": {},
     "output_type": "execute_result"
    }
   ],
   "source": [
    "model_sgd.score(X_test, y_test)"
   ]
  },
  {
   "cell_type": "markdown",
   "id": "2c68e2f3",
   "metadata": {},
   "source": [
    "### 4) Construindo um modelo GradientBoostingRegressor"
   ]
  },
  {
   "cell_type": "code",
   "execution_count": 95,
   "id": "4f93ddb7",
   "metadata": {},
   "outputs": [],
   "source": [
    "from sklearn.ensemble import GradientBoostingRegressor"
   ]
  },
  {
   "cell_type": "code",
   "execution_count": 96,
   "id": "6e1669f9",
   "metadata": {},
   "outputs": [],
   "source": [
    "model_gbr = GradientBoostingRegressor()"
   ]
  },
  {
   "cell_type": "code",
   "execution_count": 97,
   "id": "7fcc9e2d",
   "metadata": {},
   "outputs": [
    {
     "data": {
      "text/plain": [
       "GradientBoostingRegressor()"
      ]
     },
     "execution_count": 97,
     "metadata": {},
     "output_type": "execute_result"
    }
   ],
   "source": [
    "model_gbr.fit(X_train, y_train)"
   ]
  },
  {
   "cell_type": "code",
   "execution_count": 98,
   "id": "251e819d",
   "metadata": {},
   "outputs": [
    {
     "data": {
      "text/plain": [
       "0.8149566280175408"
      ]
     },
     "execution_count": 98,
     "metadata": {},
     "output_type": "execute_result"
    }
   ],
   "source": [
    "model_gbr.score(X_test, y_test)"
   ]
  },
  {
   "cell_type": "code",
   "execution_count": 99,
   "id": "0f9396a8",
   "metadata": {},
   "outputs": [
    {
     "data": {
      "text/plain": [
       "0.8126076076564638"
      ]
     },
     "execution_count": 99,
     "metadata": {},
     "output_type": "execute_result"
    }
   ],
   "source": [
    "model_gbr.score(X_val, y_val)"
   ]
  },
  {
   "cell_type": "code",
   "execution_count": 100,
   "id": "1c82b270",
   "metadata": {},
   "outputs": [
    {
     "name": "stdout",
     "output_type": "stream",
     "text": [
      "GradientBoostingRegressor()\n",
      "train_score = 0.878\n",
      "val_score = 0.826\n"
     ]
    },
    {
     "data": {
      "image/png": "[encoded data removed]",
      "text/plain": [
       "<Figure size 576x216 with 1 Axes>"
      ]
     },
     "metadata": {
      "needs_background": "light"
     },
     "output_type": "display_data"
    },
    {
     "name": "stdout",
     "output_type": "stream",
     "text": [
      "--------------------\n"
     ]
    }
   ],
   "source": [
    "evaluate_models(model_gbr, X, y)"
   ]
  },
  {
   "cell_type": "code",
   "execution_count": 101,
   "id": "dab34498",
   "metadata": {},
   "outputs": [],
   "source": [
    "y_pred_gbr = pd.Series(model_gbr.predict(X_val))"
   ]
  },
  {
   "cell_type": "code",
   "execution_count": 102,
   "id": "9bd552d6",
   "metadata": {
    "scrolled": true
   },
   "outputs": [
    {
     "data": {
      "text/plain": [
       "(0    3.838312\n",
       " 1    3.969478\n",
       " 2    4.619270\n",
       " 3    3.909992\n",
       " 4    4.283074\n",
       " 5    3.822685\n",
       " 6    4.646686\n",
       " 7    4.512329\n",
       " 8    3.813443\n",
       " 9    3.844204\n",
       " dtype: float64,\n",
       " 914     3.720780\n",
       " 740     3.934725\n",
       " 1037    4.599070\n",
       " 884     3.688240\n",
       " 238     4.239367\n",
       " 176     3.809954\n",
       " 252     4.646019\n",
       " 1139    4.567011\n",
       " 1290    3.853327\n",
       " 929     3.798634\n",
       " Name: charges, dtype: float64)"
      ]
     },
     "execution_count": 102,
     "metadata": {},
     "output_type": "execute_result"
    }
   ],
   "source": [
    "y_pred_gbr[:10], y_val[:10]"
   ]
  },
  {
   "cell_type": "markdown",
   "id": "c2ace551",
   "metadata": {},
   "source": [
    "## 5) Keras MLP"
   ]
  },
  {
   "cell_type": "code",
   "execution_count": 194,
   "id": "5b41f4b9",
   "metadata": {},
   "outputs": [],
   "source": [
    "import tensorflow as tf\n",
    "import tensorflow.keras as keras"
   ]
  },
  {
   "cell_type": "code",
   "execution_count": 195,
   "id": "9b78e558",
   "metadata": {},
   "outputs": [],
   "source": [
    "model_mlp = keras.models.Sequential([\n",
    "    keras.layers.Dense(4, activation='elu', input_shape=[4]),\n",
    "    keras.layers.Dense(100, activation='elu'),\n",
    "    keras.layers.Dense(100, activation='elu'),\n",
    "    keras.layers.Dense(1, activation='elu')\n",
    "])"
   ]
  },
  {
   "cell_type": "code",
   "execution_count": 196,
   "id": "219c039a",
   "metadata": {},
   "outputs": [],
   "source": [
    "model_mlp.compile(loss=\"mean_squared_error\", optimizer=\"sgd\")"
   ]
  },
  {
   "cell_type": "code",
   "execution_count": 197,
   "id": "0ddab35d",
   "metadata": {},
   "outputs": [
    {
     "name": "stdout",
     "output_type": "stream",
     "text": [
      "Model: \"sequential_3\"\n",
      "_________________________________________________________________\n",
      " Layer (type)                Output Shape              Param #   \n",
      "=================================================================\n",
      " dense_14 (Dense)            (None, 4)                 20        \n",
      "                                                                 \n",
      " dense_15 (Dense)            (None, 100)               500       \n",
      "                                                                 \n",
      " dense_16 (Dense)            (None, 100)               10100     \n",
      "                                                                 \n",
      " dense_17 (Dense)            (None, 1)                 101       \n",
      "                                                                 \n",
      "=================================================================\n",
      "Total params: 10,721\n",
      "Trainable params: 10,721\n",
      "Non-trainable params: 0\n",
      "_________________________________________________________________\n"
     ]
    }
   ],
   "source": [
    "model_mlp.summary()"
   ]
  },
  {
   "cell_type": "code",
   "execution_count": 198,
   "id": "453dc732",
   "metadata": {
    "scrolled": true
   },
   "outputs": [
    {
     "data": {
      "image/png": "[encoded data removed]",
      "text/plain": [
       "<IPython.core.display.Image object>"
      ]
     },
     "execution_count": 198,
     "metadata": {},
     "output_type": "execute_result"
    }
   ],
   "source": [
    "keras.utils.plot_model(model_mlp, to_file=\"medical_cost.png\", show_shapes=True)"
   ]
  },
  {
   "cell_type": "code",
   "execution_count": 199,
   "id": "4a3edd34",
   "metadata": {},
   "outputs": [
    {
     "data": {
      "text/plain": [
       "age        -1.438764\n",
       "bmi        -0.367160\n",
       "children   -0.908614\n",
       "smoker      1.970587\n",
       "Name: 0, dtype: float64"
      ]
     },
     "execution_count": 199,
     "metadata": {},
     "output_type": "execute_result"
    }
   ],
   "source": [
    "X_scaled.iloc[0]"
   ]
  },
  {
   "cell_type": "code",
   "execution_count": 200,
   "id": "4eaa14ea",
   "metadata": {},
   "outputs": [
    {
     "name": "stdout",
     "output_type": "stream",
     "text": [
      "1/1 [==============================] - 0s 49ms/step\n"
     ]
    },
    {
     "data": {
      "text/plain": [
       "array([[-0.0994004]], dtype=float32)"
      ]
     },
     "execution_count": 200,
     "metadata": {},
     "output_type": "execute_result"
    }
   ],
   "source": [
    "model_mlp.predict(np.array(X_train.iloc[0]).reshape(1, -1))"
   ]
  },
  {
   "cell_type": "code",
   "execution_count": 201,
   "id": "05318e8e",
   "metadata": {
    "scrolled": true
   },
   "outputs": [
    {
     "name": "stdout",
     "output_type": "stream",
     "text": [
      "Epoch 1/250\n",
      "24/24 [==============================] - 0s 7ms/step - loss: 3.3287 - val_loss: 0.1259\n",
      "Epoch 2/250\n",
      "24/24 [==============================] - 0s 2ms/step - loss: 0.1202 - val_loss: 0.0788\n",
      "Epoch 3/250\n",
      "24/24 [==============================] - 0s 3ms/step - loss: 0.0816 - val_loss: 0.0618\n",
      "Epoch 4/250\n",
      "24/24 [==============================] - 0s 2ms/step - loss: 0.0654 - val_loss: 0.0525\n",
      "Epoch 5/250\n",
      "24/24 [==============================] - 0s 2ms/step - loss: 0.0543 - val_loss: 0.0487\n",
      "Epoch 6/250\n",
      "24/24 [==============================] - 0s 2ms/step - loss: 0.0488 - val_loss: 0.0447\n",
      "Epoch 7/250\n",
      "24/24 [==============================] - 0s 2ms/step - loss: 0.0448 - val_loss: 0.0429\n",
      "Epoch 8/250\n",
      "24/24 [==============================] - 0s 2ms/step - loss: 0.0421 - val_loss: 0.0417\n",
      "Epoch 9/250\n",
      "24/24 [==============================] - 0s 2ms/step - loss: 0.0404 - val_loss: 0.0412\n",
      "Epoch 10/250\n",
      "24/24 [==============================] - 0s 3ms/step - loss: 0.0389 - val_loss: 0.0405\n",
      "Epoch 11/250\n",
      "24/24 [==============================] - 0s 2ms/step - loss: 0.0380 - val_loss: 0.0406\n",
      "Epoch 12/250\n",
      "24/24 [==============================] - 0s 2ms/step - loss: 0.0372 - val_loss: 0.0391\n",
      "Epoch 13/250\n",
      "24/24 [==============================] - 0s 2ms/step - loss: 0.0367 - val_loss: 0.0393\n",
      "Epoch 14/250\n",
      "24/24 [==============================] - 0s 2ms/step - loss: 0.0360 - val_loss: 0.0383\n",
      "Epoch 15/250\n",
      "24/24 [==============================] - 0s 2ms/step - loss: 0.0355 - val_loss: 0.0403\n",
      "Epoch 16/250\n",
      "24/24 [==============================] - 0s 2ms/step - loss: 0.0349 - val_loss: 0.0379\n",
      "Epoch 17/250\n",
      "24/24 [==============================] - 0s 2ms/step - loss: 0.0346 - val_loss: 0.0379\n",
      "Epoch 18/250\n",
      "24/24 [==============================] - 0s 2ms/step - loss: 0.0344 - val_loss: 0.0374\n",
      "Epoch 19/250\n",
      "24/24 [==============================] - 0s 2ms/step - loss: 0.0342 - val_loss: 0.0377\n",
      "Epoch 20/250\n",
      "24/24 [==============================] - 0s 2ms/step - loss: 0.0339 - val_loss: 0.0372\n",
      "Epoch 21/250\n",
      "24/24 [==============================] - 0s 2ms/step - loss: 0.0337 - val_loss: 0.0369\n",
      "Epoch 22/250\n",
      "24/24 [==============================] - 0s 2ms/step - loss: 0.0334 - val_loss: 0.0367\n",
      "Epoch 23/250\n",
      "24/24 [==============================] - 0s 2ms/step - loss: 0.0331 - val_loss: 0.0383\n",
      "Epoch 24/250\n",
      "24/24 [==============================] - 0s 2ms/step - loss: 0.0331 - val_loss: 0.0365\n",
      "Epoch 25/250\n",
      "24/24 [==============================] - 0s 2ms/step - loss: 0.0329 - val_loss: 0.0372\n",
      "Epoch 26/250\n",
      "24/24 [==============================] - 0s 2ms/step - loss: 0.0328 - val_loss: 0.0367\n",
      "Epoch 27/250\n",
      "24/24 [==============================] - 0s 2ms/step - loss: 0.0327 - val_loss: 0.0359\n",
      "Epoch 28/250\n",
      "24/24 [==============================] - 0s 3ms/step - loss: 0.0324 - val_loss: 0.0362\n",
      "Epoch 29/250\n",
      "24/24 [==============================] - 0s 2ms/step - loss: 0.0324 - val_loss: 0.0361\n",
      "Epoch 30/250\n",
      "24/24 [==============================] - 0s 2ms/step - loss: 0.0322 - val_loss: 0.0365\n",
      "Epoch 31/250\n",
      "24/24 [==============================] - 0s 2ms/step - loss: 0.0320 - val_loss: 0.0356\n",
      "Epoch 32/250\n",
      "24/24 [==============================] - 0s 2ms/step - loss: 0.0319 - val_loss: 0.0356\n",
      "Epoch 33/250\n",
      "24/24 [==============================] - 0s 2ms/step - loss: 0.0320 - val_loss: 0.0359\n",
      "Epoch 34/250\n",
      "24/24 [==============================] - 0s 2ms/step - loss: 0.0316 - val_loss: 0.0354\n",
      "Epoch 35/250\n",
      "24/24 [==============================] - 0s 2ms/step - loss: 0.0315 - val_loss: 0.0352\n",
      "Epoch 36/250\n",
      "24/24 [==============================] - 0s 3ms/step - loss: 0.0314 - val_loss: 0.0353\n",
      "Epoch 37/250\n",
      "24/24 [==============================] - 0s 2ms/step - loss: 0.0313 - val_loss: 0.0359\n",
      "Epoch 38/250\n",
      "24/24 [==============================] - 0s 2ms/step - loss: 0.0313 - val_loss: 0.0353\n",
      "Epoch 39/250\n",
      "24/24 [==============================] - 0s 2ms/step - loss: 0.0310 - val_loss: 0.0349\n",
      "Epoch 40/250\n",
      "24/24 [==============================] - 0s 3ms/step - loss: 0.0312 - val_loss: 0.0350\n",
      "Epoch 41/250\n",
      "24/24 [==============================] - 0s 2ms/step - loss: 0.0310 - val_loss: 0.0350\n",
      "Epoch 42/250\n",
      "24/24 [==============================] - 0s 2ms/step - loss: 0.0307 - val_loss: 0.0350\n",
      "Epoch 43/250\n",
      "24/24 [==============================] - 0s 2ms/step - loss: 0.0311 - val_loss: 0.0349\n",
      "Epoch 44/250\n",
      "24/24 [==============================] - 0s 2ms/step - loss: 0.0308 - val_loss: 0.0347\n",
      "Epoch 45/250\n",
      "24/24 [==============================] - 0s 3ms/step - loss: 0.0304 - val_loss: 0.0342\n",
      "Epoch 46/250\n",
      "24/24 [==============================] - 0s 3ms/step - loss: 0.0307 - val_loss: 0.0342\n",
      "Epoch 47/250\n",
      "24/24 [==============================] - 0s 3ms/step - loss: 0.0303 - val_loss: 0.0343\n",
      "Epoch 48/250\n",
      "24/24 [==============================] - 0s 2ms/step - loss: 0.0306 - val_loss: 0.0349\n",
      "Epoch 49/250\n",
      "24/24 [==============================] - 0s 2ms/step - loss: 0.0305 - val_loss: 0.0343\n",
      "Epoch 50/250\n",
      "24/24 [==============================] - 0s 2ms/step - loss: 0.0301 - val_loss: 0.0349\n",
      "Epoch 51/250\n",
      "24/24 [==============================] - 0s 2ms/step - loss: 0.0304 - val_loss: 0.0340\n",
      "Epoch 52/250\n",
      "24/24 [==============================] - 0s 2ms/step - loss: 0.0301 - val_loss: 0.0339\n",
      "Epoch 53/250\n",
      "24/24 [==============================] - 0s 2ms/step - loss: 0.0300 - val_loss: 0.0344\n",
      "Epoch 54/250\n",
      "24/24 [==============================] - 0s 3ms/step - loss: 0.0300 - val_loss: 0.0337\n",
      "Epoch 55/250\n",
      "24/24 [==============================] - 0s 3ms/step - loss: 0.0301 - val_loss: 0.0342\n",
      "Epoch 56/250\n",
      "24/24 [==============================] - 0s 2ms/step - loss: 0.0301 - val_loss: 0.0338\n",
      "Epoch 57/250\n",
      "24/24 [==============================] - 0s 2ms/step - loss: 0.0300 - val_loss: 0.0336\n",
      "Epoch 58/250\n",
      "24/24 [==============================] - 0s 2ms/step - loss: 0.0298 - val_loss: 0.0338\n",
      "Epoch 59/250\n",
      "24/24 [==============================] - 0s 2ms/step - loss: 0.0297 - val_loss: 0.0333\n",
      "Epoch 60/250\n",
      "24/24 [==============================] - 0s 2ms/step - loss: 0.0294 - val_loss: 0.0338\n",
      "Epoch 61/250\n",
      "24/24 [==============================] - 0s 2ms/step - loss: 0.0297 - val_loss: 0.0334\n",
      "Epoch 62/250\n",
      "24/24 [==============================] - 0s 2ms/step - loss: 0.0294 - val_loss: 0.0336\n",
      "Epoch 63/250\n",
      "24/24 [==============================] - 0s 2ms/step - loss: 0.0295 - val_loss: 0.0334\n",
      "Epoch 64/250\n",
      "24/24 [==============================] - 0s 2ms/step - loss: 0.0296 - val_loss: 0.0336\n",
      "Epoch 65/250\n",
      "24/24 [==============================] - 0s 3ms/step - loss: 0.0292 - val_loss: 0.0345\n",
      "Epoch 66/250\n",
      "24/24 [==============================] - 0s 3ms/step - loss: 0.0295 - val_loss: 0.0329\n",
      "Epoch 67/250\n",
      "24/24 [==============================] - 0s 2ms/step - loss: 0.0294 - val_loss: 0.0331\n",
      "Epoch 68/250\n",
      "24/24 [==============================] - 0s 2ms/step - loss: 0.0292 - val_loss: 0.0336\n",
      "Epoch 69/250\n",
      "24/24 [==============================] - 0s 2ms/step - loss: 0.0293 - val_loss: 0.0330\n",
      "Epoch 70/250\n",
      "24/24 [==============================] - 0s 2ms/step - loss: 0.0290 - val_loss: 0.0353\n",
      "Epoch 71/250\n",
      "24/24 [==============================] - 0s 2ms/step - loss: 0.0292 - val_loss: 0.0338\n",
      "Epoch 72/250\n",
      "24/24 [==============================] - 0s 3ms/step - loss: 0.0292 - val_loss: 0.0334\n",
      "Epoch 73/250\n",
      "24/24 [==============================] - 0s 2ms/step - loss: 0.0289 - val_loss: 0.0329\n",
      "Epoch 74/250\n",
      "24/24 [==============================] - 0s 2ms/step - loss: 0.0290 - val_loss: 0.0328\n",
      "Epoch 75/250\n",
      "24/24 [==============================] - 0s 2ms/step - loss: 0.0291 - val_loss: 0.0328\n",
      "Epoch 76/250\n",
      "24/24 [==============================] - 0s 2ms/step - loss: 0.0292 - val_loss: 0.0328\n",
      "Epoch 77/250\n",
      "24/24 [==============================] - 0s 2ms/step - loss: 0.0288 - val_loss: 0.0329\n",
      "Epoch 78/250\n",
      "24/24 [==============================] - 0s 2ms/step - loss: 0.0288 - val_loss: 0.0328\n",
      "Epoch 79/250\n",
      "24/24 [==============================] - 0s 2ms/step - loss: 0.0289 - val_loss: 0.0330\n",
      "Epoch 80/250\n",
      "24/24 [==============================] - 0s 2ms/step - loss: 0.0288 - val_loss: 0.0326\n",
      "Epoch 81/250\n",
      "24/24 [==============================] - 0s 2ms/step - loss: 0.0288 - val_loss: 0.0327\n",
      "Epoch 82/250\n",
      "24/24 [==============================] - 0s 2ms/step - loss: 0.0284 - val_loss: 0.0333\n",
      "Epoch 83/250\n"
     ]
    },
    {
     "name": "stdout",
     "output_type": "stream",
     "text": [
      "24/24 [==============================] - 0s 2ms/step - loss: 0.0289 - val_loss: 0.0323\n",
      "Epoch 84/250\n",
      "24/24 [==============================] - 0s 2ms/step - loss: 0.0288 - val_loss: 0.0328\n",
      "Epoch 85/250\n",
      "24/24 [==============================] - 0s 2ms/step - loss: 0.0285 - val_loss: 0.0326\n",
      "Epoch 86/250\n",
      "24/24 [==============================] - 0s 2ms/step - loss: 0.0284 - val_loss: 0.0326\n",
      "Epoch 87/250\n",
      "24/24 [==============================] - 0s 2ms/step - loss: 0.0286 - val_loss: 0.0330\n",
      "Epoch 88/250\n",
      "24/24 [==============================] - 0s 2ms/step - loss: 0.0285 - val_loss: 0.0324\n",
      "Epoch 89/250\n",
      "24/24 [==============================] - 0s 2ms/step - loss: 0.0285 - val_loss: 0.0326\n",
      "Epoch 90/250\n",
      "24/24 [==============================] - 0s 2ms/step - loss: 0.0284 - val_loss: 0.0321\n",
      "Epoch 91/250\n",
      "24/24 [==============================] - 0s 2ms/step - loss: 0.0283 - val_loss: 0.0327\n",
      "Epoch 92/250\n",
      "24/24 [==============================] - 0s 2ms/step - loss: 0.0286 - val_loss: 0.0321\n",
      "Epoch 93/250\n",
      "24/24 [==============================] - 0s 2ms/step - loss: 0.0282 - val_loss: 0.0324\n",
      "Epoch 94/250\n",
      "24/24 [==============================] - 0s 2ms/step - loss: 0.0284 - val_loss: 0.0321\n",
      "Epoch 95/250\n",
      "24/24 [==============================] - 0s 2ms/step - loss: 0.0284 - val_loss: 0.0325\n",
      "Epoch 96/250\n",
      "24/24 [==============================] - 0s 2ms/step - loss: 0.0284 - val_loss: 0.0320\n",
      "Epoch 97/250\n",
      "24/24 [==============================] - 0s 2ms/step - loss: 0.0284 - val_loss: 0.0324\n",
      "Epoch 98/250\n",
      "24/24 [==============================] - 0s 2ms/step - loss: 0.0282 - val_loss: 0.0322\n",
      "Epoch 99/250\n",
      "24/24 [==============================] - 0s 2ms/step - loss: 0.0280 - val_loss: 0.0338\n",
      "Epoch 100/250\n",
      "24/24 [==============================] - 0s 2ms/step - loss: 0.0284 - val_loss: 0.0325\n",
      "Epoch 101/250\n",
      "24/24 [==============================] - 0s 2ms/step - loss: 0.0282 - val_loss: 0.0319\n",
      "Epoch 102/250\n",
      "24/24 [==============================] - 0s 2ms/step - loss: 0.0280 - val_loss: 0.0323\n",
      "Epoch 103/250\n",
      "24/24 [==============================] - 0s 2ms/step - loss: 0.0281 - val_loss: 0.0317\n",
      "Epoch 104/250\n",
      "24/24 [==============================] - 0s 2ms/step - loss: 0.0281 - val_loss: 0.0322\n",
      "Epoch 105/250\n",
      "24/24 [==============================] - 0s 2ms/step - loss: 0.0280 - val_loss: 0.0319\n",
      "Epoch 106/250\n",
      "24/24 [==============================] - 0s 2ms/step - loss: 0.0279 - val_loss: 0.0318\n",
      "Epoch 107/250\n",
      "24/24 [==============================] - 0s 3ms/step - loss: 0.0280 - val_loss: 0.0317\n",
      "Epoch 108/250\n",
      "24/24 [==============================] - 0s 2ms/step - loss: 0.0279 - val_loss: 0.0317\n",
      "Epoch 109/250\n",
      "24/24 [==============================] - 0s 2ms/step - loss: 0.0278 - val_loss: 0.0316\n",
      "Epoch 110/250\n",
      "24/24 [==============================] - 0s 2ms/step - loss: 0.0278 - val_loss: 0.0322\n",
      "Epoch 111/250\n",
      "24/24 [==============================] - 0s 2ms/step - loss: 0.0279 - val_loss: 0.0324\n",
      "Epoch 112/250\n",
      "24/24 [==============================] - 0s 2ms/step - loss: 0.0277 - val_loss: 0.0316\n",
      "Epoch 113/250\n",
      "24/24 [==============================] - 0s 2ms/step - loss: 0.0278 - val_loss: 0.0316\n",
      "Epoch 114/250\n",
      "24/24 [==============================] - 0s 2ms/step - loss: 0.0277 - val_loss: 0.0322\n",
      "Epoch 115/250\n",
      "24/24 [==============================] - 0s 2ms/step - loss: 0.0277 - val_loss: 0.0318\n",
      "Epoch 116/250\n",
      "24/24 [==============================] - 0s 2ms/step - loss: 0.0277 - val_loss: 0.0316\n",
      "Epoch 117/250\n",
      "24/24 [==============================] - 0s 2ms/step - loss: 0.0278 - val_loss: 0.0318\n",
      "Epoch 118/250\n",
      "24/24 [==============================] - 0s 2ms/step - loss: 0.0277 - val_loss: 0.0317\n",
      "Epoch 119/250\n",
      "24/24 [==============================] - 0s 2ms/step - loss: 0.0277 - val_loss: 0.0316\n",
      "Epoch 120/250\n",
      "24/24 [==============================] - 0s 2ms/step - loss: 0.0277 - val_loss: 0.0316\n",
      "Epoch 121/250\n",
      "24/24 [==============================] - 0s 2ms/step - loss: 0.0276 - val_loss: 0.0314\n",
      "Epoch 122/250\n",
      "24/24 [==============================] - 0s 2ms/step - loss: 0.0277 - val_loss: 0.0316\n",
      "Epoch 123/250\n",
      "24/24 [==============================] - 0s 2ms/step - loss: 0.0275 - val_loss: 0.0315\n",
      "Epoch 124/250\n",
      "24/24 [==============================] - 0s 2ms/step - loss: 0.0276 - val_loss: 0.0316\n",
      "Epoch 125/250\n",
      "24/24 [==============================] - 0s 2ms/step - loss: 0.0276 - val_loss: 0.0315\n",
      "Epoch 126/250\n",
      "24/24 [==============================] - 0s 2ms/step - loss: 0.0276 - val_loss: 0.0315\n",
      "Epoch 127/250\n",
      "24/24 [==============================] - 0s 2ms/step - loss: 0.0276 - val_loss: 0.0321\n",
      "Epoch 128/250\n",
      "24/24 [==============================] - 0s 2ms/step - loss: 0.0276 - val_loss: 0.0314\n",
      "Epoch 129/250\n",
      "24/24 [==============================] - 0s 2ms/step - loss: 0.0275 - val_loss: 0.0313\n",
      "Epoch 130/250\n",
      "24/24 [==============================] - 0s 2ms/step - loss: 0.0274 - val_loss: 0.0321\n",
      "Epoch 131/250\n",
      "24/24 [==============================] - 0s 2ms/step - loss: 0.0275 - val_loss: 0.0314\n",
      "Epoch 132/250\n",
      "24/24 [==============================] - 0s 2ms/step - loss: 0.0275 - val_loss: 0.0316\n",
      "Epoch 133/250\n",
      "24/24 [==============================] - 0s 2ms/step - loss: 0.0274 - val_loss: 0.0324\n",
      "Epoch 134/250\n",
      "24/24 [==============================] - 0s 2ms/step - loss: 0.0274 - val_loss: 0.0313\n",
      "Epoch 135/250\n",
      "24/24 [==============================] - 0s 2ms/step - loss: 0.0274 - val_loss: 0.0313\n",
      "Epoch 136/250\n",
      "24/24 [==============================] - 0s 3ms/step - loss: 0.0273 - val_loss: 0.0321\n",
      "Epoch 137/250\n",
      "24/24 [==============================] - 0s 3ms/step - loss: 0.0272 - val_loss: 0.0319\n",
      "Epoch 138/250\n",
      "24/24 [==============================] - 0s 3ms/step - loss: 0.0272 - val_loss: 0.0323\n",
      "Epoch 139/250\n",
      "24/24 [==============================] - 0s 2ms/step - loss: 0.0274 - val_loss: 0.0316\n",
      "Epoch 140/250\n",
      "24/24 [==============================] - 0s 3ms/step - loss: 0.0274 - val_loss: 0.0327\n",
      "Epoch 141/250\n",
      "24/24 [==============================] - 0s 2ms/step - loss: 0.0273 - val_loss: 0.0311\n",
      "Epoch 142/250\n",
      "24/24 [==============================] - 0s 2ms/step - loss: 0.0273 - val_loss: 0.0316\n",
      "Epoch 143/250\n",
      "24/24 [==============================] - 0s 2ms/step - loss: 0.0274 - val_loss: 0.0311\n",
      "Epoch 144/250\n",
      "24/24 [==============================] - 0s 2ms/step - loss: 0.0271 - val_loss: 0.0313\n",
      "Epoch 145/250\n",
      "24/24 [==============================] - 0s 2ms/step - loss: 0.0274 - val_loss: 0.0317\n",
      "Epoch 146/250\n",
      "24/24 [==============================] - 0s 3ms/step - loss: 0.0272 - val_loss: 0.0312\n",
      "Epoch 147/250\n",
      "24/24 [==============================] - 0s 2ms/step - loss: 0.0271 - val_loss: 0.0314\n",
      "Epoch 148/250\n",
      "24/24 [==============================] - 0s 2ms/step - loss: 0.0271 - val_loss: 0.0311\n",
      "Epoch 149/250\n",
      "24/24 [==============================] - 0s 2ms/step - loss: 0.0272 - val_loss: 0.0311\n",
      "Epoch 150/250\n",
      "24/24 [==============================] - 0s 2ms/step - loss: 0.0269 - val_loss: 0.0317\n",
      "Epoch 151/250\n",
      "24/24 [==============================] - 0s 2ms/step - loss: 0.0271 - val_loss: 0.0312\n",
      "Epoch 152/250\n",
      "24/24 [==============================] - 0s 2ms/step - loss: 0.0271 - val_loss: 0.0313\n",
      "Epoch 153/250\n",
      "24/24 [==============================] - 0s 2ms/step - loss: 0.0271 - val_loss: 0.0311\n",
      "Epoch 154/250\n",
      "24/24 [==============================] - 0s 2ms/step - loss: 0.0271 - val_loss: 0.0311\n",
      "Epoch 155/250\n",
      "24/24 [==============================] - 0s 2ms/step - loss: 0.0272 - val_loss: 0.0309\n",
      "Epoch 156/250\n",
      "24/24 [==============================] - 0s 2ms/step - loss: 0.0270 - val_loss: 0.0316\n",
      "Epoch 157/250\n",
      "24/24 [==============================] - 0s 3ms/step - loss: 0.0270 - val_loss: 0.0310\n",
      "Epoch 158/250\n",
      "24/24 [==============================] - 0s 2ms/step - loss: 0.0270 - val_loss: 0.0314\n",
      "Epoch 159/250\n",
      "24/24 [==============================] - 0s 2ms/step - loss: 0.0270 - val_loss: 0.0309\n",
      "Epoch 160/250\n",
      "24/24 [==============================] - 0s 2ms/step - loss: 0.0270 - val_loss: 0.0310\n",
      "Epoch 161/250\n",
      "24/24 [==============================] - 0s 2ms/step - loss: 0.0267 - val_loss: 0.0312\n",
      "Epoch 162/250\n",
      "24/24 [==============================] - 0s 2ms/step - loss: 0.0271 - val_loss: 0.0309\n",
      "Epoch 163/250\n",
      "24/24 [==============================] - 0s 2ms/step - loss: 0.0269 - val_loss: 0.0308\n",
      "Epoch 164/250\n"
     ]
    },
    {
     "name": "stdout",
     "output_type": "stream",
     "text": [
      "24/24 [==============================] - 0s 2ms/step - loss: 0.0271 - val_loss: 0.0310\n",
      "Epoch 165/250\n",
      "24/24 [==============================] - 0s 2ms/step - loss: 0.0269 - val_loss: 0.0308\n",
      "Epoch 166/250\n",
      "24/24 [==============================] - 0s 2ms/step - loss: 0.0270 - val_loss: 0.0314\n",
      "Epoch 167/250\n",
      "24/24 [==============================] - 0s 2ms/step - loss: 0.0269 - val_loss: 0.0311\n",
      "Epoch 168/250\n",
      "24/24 [==============================] - 0s 2ms/step - loss: 0.0269 - val_loss: 0.0310\n",
      "Epoch 169/250\n",
      "24/24 [==============================] - 0s 2ms/step - loss: 0.0268 - val_loss: 0.0309\n",
      "Epoch 170/250\n",
      "24/24 [==============================] - 0s 2ms/step - loss: 0.0269 - val_loss: 0.0307\n",
      "Epoch 171/250\n",
      "24/24 [==============================] - 0s 2ms/step - loss: 0.0267 - val_loss: 0.0323\n",
      "Epoch 172/250\n",
      "24/24 [==============================] - 0s 2ms/step - loss: 0.0270 - val_loss: 0.0312\n",
      "Epoch 173/250\n",
      "24/24 [==============================] - 0s 2ms/step - loss: 0.0269 - val_loss: 0.0309\n",
      "Epoch 174/250\n",
      "24/24 [==============================] - 0s 2ms/step - loss: 0.0267 - val_loss: 0.0313\n",
      "Epoch 175/250\n",
      "24/24 [==============================] - 0s 2ms/step - loss: 0.0268 - val_loss: 0.0307\n",
      "Epoch 176/250\n",
      "24/24 [==============================] - 0s 2ms/step - loss: 0.0267 - val_loss: 0.0312\n",
      "Epoch 177/250\n",
      "24/24 [==============================] - 0s 2ms/step - loss: 0.0268 - val_loss: 0.0314\n",
      "Epoch 178/250\n",
      "24/24 [==============================] - 0s 2ms/step - loss: 0.0268 - val_loss: 0.0320\n",
      "Epoch 179/250\n",
      "24/24 [==============================] - 0s 2ms/step - loss: 0.0269 - val_loss: 0.0307\n",
      "Epoch 180/250\n",
      "24/24 [==============================] - 0s 2ms/step - loss: 0.0266 - val_loss: 0.0311\n",
      "Epoch 181/250\n",
      "24/24 [==============================] - 0s 2ms/step - loss: 0.0267 - val_loss: 0.0309\n",
      "Epoch 182/250\n",
      "24/24 [==============================] - 0s 2ms/step - loss: 0.0266 - val_loss: 0.0307\n",
      "Epoch 183/250\n",
      "24/24 [==============================] - 0s 2ms/step - loss: 0.0266 - val_loss: 0.0309\n",
      "Epoch 184/250\n",
      "24/24 [==============================] - 0s 2ms/step - loss: 0.0266 - val_loss: 0.0310\n",
      "Epoch 185/250\n",
      "24/24 [==============================] - 0s 2ms/step - loss: 0.0267 - val_loss: 0.0310\n",
      "Epoch 186/250\n",
      "24/24 [==============================] - 0s 2ms/step - loss: 0.0267 - val_loss: 0.0308\n",
      "Epoch 187/250\n",
      "24/24 [==============================] - 0s 2ms/step - loss: 0.0266 - val_loss: 0.0308\n",
      "Epoch 188/250\n",
      "24/24 [==============================] - 0s 2ms/step - loss: 0.0267 - val_loss: 0.0308\n",
      "Epoch 189/250\n",
      "24/24 [==============================] - 0s 2ms/step - loss: 0.0266 - val_loss: 0.0313\n",
      "Epoch 190/250\n",
      "24/24 [==============================] - 0s 2ms/step - loss: 0.0267 - val_loss: 0.0309\n",
      "Epoch 191/250\n",
      "24/24 [==============================] - 0s 2ms/step - loss: 0.0266 - val_loss: 0.0305\n",
      "Epoch 192/250\n",
      "24/24 [==============================] - 0s 2ms/step - loss: 0.0267 - val_loss: 0.0309\n",
      "Epoch 193/250\n",
      "24/24 [==============================] - 0s 2ms/step - loss: 0.0266 - val_loss: 0.0307\n",
      "Epoch 194/250\n",
      "24/24 [==============================] - 0s 2ms/step - loss: 0.0264 - val_loss: 0.0307\n",
      "Epoch 195/250\n",
      "24/24 [==============================] - 0s 2ms/step - loss: 0.0266 - val_loss: 0.0307\n",
      "Epoch 196/250\n",
      "24/24 [==============================] - 0s 2ms/step - loss: 0.0266 - val_loss: 0.0306\n",
      "Epoch 197/250\n",
      "24/24 [==============================] - 0s 2ms/step - loss: 0.0265 - val_loss: 0.0307\n",
      "Epoch 198/250\n",
      "24/24 [==============================] - 0s 2ms/step - loss: 0.0262 - val_loss: 0.0320\n",
      "Epoch 199/250\n",
      "24/24 [==============================] - 0s 2ms/step - loss: 0.0268 - val_loss: 0.0307\n",
      "Epoch 200/250\n",
      "24/24 [==============================] - 0s 2ms/step - loss: 0.0265 - val_loss: 0.0307\n",
      "Epoch 201/250\n",
      "24/24 [==============================] - 0s 2ms/step - loss: 0.0265 - val_loss: 0.0306\n",
      "Epoch 202/250\n",
      "24/24 [==============================] - 0s 2ms/step - loss: 0.0265 - val_loss: 0.0308\n",
      "Epoch 203/250\n",
      "24/24 [==============================] - 0s 2ms/step - loss: 0.0266 - val_loss: 0.0312\n",
      "Epoch 204/250\n",
      "24/24 [==============================] - 0s 2ms/step - loss: 0.0267 - val_loss: 0.0313\n",
      "Epoch 205/250\n",
      "24/24 [==============================] - 0s 2ms/step - loss: 0.0266 - val_loss: 0.0315\n",
      "Epoch 206/250\n",
      "24/24 [==============================] - 0s 2ms/step - loss: 0.0264 - val_loss: 0.0309\n",
      "Epoch 207/250\n",
      "24/24 [==============================] - 0s 2ms/step - loss: 0.0265 - val_loss: 0.0312\n",
      "Epoch 208/250\n",
      "24/24 [==============================] - 0s 2ms/step - loss: 0.0264 - val_loss: 0.0305\n",
      "Epoch 209/250\n",
      "24/24 [==============================] - 0s 2ms/step - loss: 0.0267 - val_loss: 0.0313\n",
      "Epoch 210/250\n",
      "24/24 [==============================] - 0s 2ms/step - loss: 0.0264 - val_loss: 0.0322\n",
      "Epoch 211/250\n",
      "24/24 [==============================] - 0s 2ms/step - loss: 0.0265 - val_loss: 0.0307\n",
      "Epoch 212/250\n",
      "24/24 [==============================] - 0s 2ms/step - loss: 0.0266 - val_loss: 0.0306\n",
      "Epoch 213/250\n",
      "24/24 [==============================] - 0s 2ms/step - loss: 0.0265 - val_loss: 0.0312\n",
      "Epoch 214/250\n",
      "24/24 [==============================] - 0s 2ms/step - loss: 0.0265 - val_loss: 0.0323\n",
      "Epoch 215/250\n",
      "24/24 [==============================] - 0s 2ms/step - loss: 0.0266 - val_loss: 0.0309\n",
      "Epoch 216/250\n",
      "24/24 [==============================] - 0s 2ms/step - loss: 0.0266 - val_loss: 0.0305\n",
      "Epoch 217/250\n",
      "24/24 [==============================] - 0s 2ms/step - loss: 0.0264 - val_loss: 0.0317\n",
      "Epoch 218/250\n",
      "24/24 [==============================] - 0s 2ms/step - loss: 0.0266 - val_loss: 0.0305\n",
      "Epoch 219/250\n",
      "24/24 [==============================] - 0s 2ms/step - loss: 0.0265 - val_loss: 0.0307\n",
      "Epoch 220/250\n",
      "24/24 [==============================] - 0s 2ms/step - loss: 0.0264 - val_loss: 0.0305\n",
      "Epoch 221/250\n",
      "24/24 [==============================] - 0s 2ms/step - loss: 0.0261 - val_loss: 0.0307\n",
      "Epoch 222/250\n",
      "24/24 [==============================] - 0s 2ms/step - loss: 0.0265 - val_loss: 0.0308\n",
      "Epoch 223/250\n",
      "24/24 [==============================] - 0s 2ms/step - loss: 0.0265 - val_loss: 0.0303\n",
      "Epoch 224/250\n",
      "24/24 [==============================] - 0s 2ms/step - loss: 0.0264 - val_loss: 0.0309\n",
      "Epoch 225/250\n",
      "24/24 [==============================] - 0s 2ms/step - loss: 0.0263 - val_loss: 0.0304\n",
      "Epoch 226/250\n",
      "24/24 [==============================] - 0s 2ms/step - loss: 0.0264 - val_loss: 0.0310\n",
      "Epoch 227/250\n",
      "24/24 [==============================] - 0s 2ms/step - loss: 0.0263 - val_loss: 0.0303\n",
      "Epoch 228/250\n",
      "24/24 [==============================] - 0s 2ms/step - loss: 0.0263 - val_loss: 0.0303\n",
      "Epoch 229/250\n",
      "24/24 [==============================] - 0s 3ms/step - loss: 0.0264 - val_loss: 0.0305\n",
      "Epoch 230/250\n",
      "24/24 [==============================] - 0s 3ms/step - loss: 0.0263 - val_loss: 0.0306\n",
      "Epoch 231/250\n",
      "24/24 [==============================] - 0s 2ms/step - loss: 0.0262 - val_loss: 0.0304\n",
      "Epoch 232/250\n",
      "24/24 [==============================] - 0s 2ms/step - loss: 0.0265 - val_loss: 0.0307\n",
      "Epoch 233/250\n",
      "24/24 [==============================] - 0s 2ms/step - loss: 0.0265 - val_loss: 0.0318\n",
      "Epoch 234/250\n",
      "24/24 [==============================] - 0s 2ms/step - loss: 0.0264 - val_loss: 0.0305\n",
      "Epoch 235/250\n",
      "24/24 [==============================] - 0s 2ms/step - loss: 0.0263 - val_loss: 0.0305\n",
      "Epoch 236/250\n",
      "24/24 [==============================] - 0s 2ms/step - loss: 0.0263 - val_loss: 0.0303\n",
      "Epoch 237/250\n",
      "24/24 [==============================] - 0s 2ms/step - loss: 0.0264 - val_loss: 0.0304\n",
      "Epoch 238/250\n",
      "24/24 [==============================] - 0s 2ms/step - loss: 0.0263 - val_loss: 0.0303\n",
      "Epoch 239/250\n",
      "24/24 [==============================] - 0s 3ms/step - loss: 0.0263 - val_loss: 0.0305\n",
      "Epoch 240/250\n",
      "24/24 [==============================] - 0s 2ms/step - loss: 0.0262 - val_loss: 0.0310\n",
      "Epoch 241/250\n",
      "24/24 [==============================] - 0s 2ms/step - loss: 0.0263 - val_loss: 0.0304\n",
      "Epoch 242/250\n",
      "24/24 [==============================] - 0s 2ms/step - loss: 0.0262 - val_loss: 0.0303\n",
      "Epoch 243/250\n",
      "24/24 [==============================] - 0s 2ms/step - loss: 0.0262 - val_loss: 0.0305\n",
      "Epoch 244/250\n",
      "24/24 [==============================] - 0s 2ms/step - loss: 0.0262 - val_loss: 0.0316\n",
      "Epoch 245/250\n"
     ]
    },
    {
     "name": "stdout",
     "output_type": "stream",
     "text": [
      "24/24 [==============================] - 0s 2ms/step - loss: 0.0263 - val_loss: 0.0304\n",
      "Epoch 246/250\n",
      "24/24 [==============================] - 0s 2ms/step - loss: 0.0263 - val_loss: 0.0303\n",
      "Epoch 247/250\n",
      "24/24 [==============================] - 0s 2ms/step - loss: 0.0261 - val_loss: 0.0316\n",
      "Epoch 248/250\n",
      "24/24 [==============================] - 0s 2ms/step - loss: 0.0262 - val_loss: 0.0308\n",
      "Epoch 249/250\n",
      "24/24 [==============================] - 0s 2ms/step - loss: 0.0262 - val_loss: 0.0304\n",
      "Epoch 250/250\n",
      "24/24 [==============================] - 0s 3ms/step - loss: 0.0263 - val_loss: 0.0308\n"
     ]
    }
   ],
   "source": [
    "history_0 = model_mlp.fit(X_train, y_train, epochs=250,\n",
    "                   validation_data=(X_test, y_test))"
   ]
  },
  {
   "cell_type": "code",
   "execution_count": 203,
   "id": "4c93f180",
   "metadata": {
    "scrolled": true
   },
   "outputs": [
    {
     "data": {
      "image/png": "[encoded data removed]",
      "text/plain": [
       "<Figure size 576x360 with 1 Axes>"
      ]
     },
     "metadata": {
      "needs_background": "light"
     },
     "output_type": "display_data"
    }
   ],
   "source": [
    "df_history = pd.DataFrame(history_0.history).plot(figsize=(8, 5))\n",
    "plt.grid(True)\n",
    "plt.xlabel(\"Epochs\")\n",
    "plt.ylabel(\"Loss\")\n",
    "plt.ylim([-0.2, 0.6])\n",
    "plt.gca().set_ylim(0, 0.06)\n",
    "plt.show()"
   ]
  },
  {
   "cell_type": "code",
   "execution_count": 213,
   "id": "a0c904d0",
   "metadata": {},
   "outputs": [
    {
     "data": {
      "text/plain": [
       "array([[-0.4419476 , -1.38507037, -0.90861367, -0.5074631 ],\n",
       "       [-0.15714284,  0.12137819, -0.90861367, -0.5074631 ],\n",
       "       [ 1.55168573,  1.20835567, -0.90861367, -0.5074631 ],\n",
       "       [-0.29954522, -0.51088835, -0.07876719, -0.5074631 ],\n",
       "       [ 0.98207621,  1.36295117, -0.07876719, -0.5074631 ],\n",
       "       [ 1.33808216,  0.66605376, -0.90861367, -0.5074631 ],\n",
       "       [ 1.7652893 , -1.16068941, -0.90861367,  1.97058663],\n",
       "       [-1.50996545,  0.26055126,  0.75107928,  1.97058663],\n",
       "       [ 1.12447859,  0.01436353,  0.75107928, -0.5074631 ],\n",
       "       [ 0.05646073, -0.81928831, -0.07876719, -0.5074631 ]])"
      ]
     },
     "execution_count": 213,
     "metadata": {},
     "output_type": "execute_result"
    }
   ],
   "source": [
    "np.array(X_train.iloc[0:10])"
   ]
  },
  {
   "cell_type": "code",
   "execution_count": 214,
   "id": "6c1ee356",
   "metadata": {},
   "outputs": [
    {
     "name": "stdout",
     "output_type": "stream",
     "text": [
      "1/1 [==============================] - 0s 20ms/step\n"
     ]
    },
    {
     "data": {
      "text/plain": [
       "array([[3.6991482],\n",
       "       [3.7588735],\n",
       "       [4.1734476],\n",
       "       [3.8121257],\n",
       "       [4.0931563],\n",
       "       [4.1234818],\n",
       "       [4.3908544],\n",
       "       [4.4235835],\n",
       "       [4.085717 ],\n",
       "       [3.883245 ]], dtype=float32)"
      ]
     },
     "execution_count": 214,
     "metadata": {},
     "output_type": "execute_result"
    }
   ],
   "source": [
    "model_mlp.predict(np.array(X_train.iloc[0:10]))"
   ]
  },
  {
   "cell_type": "code",
   "execution_count": 215,
   "id": "9b867599",
   "metadata": {
    "scrolled": false
   },
   "outputs": [
    {
     "data": {
      "text/plain": [
       "3       4.342116\n",
       "112     3.667150\n",
       "1034    4.112272\n",
       "965     3.676359\n",
       "651     4.024474\n",
       "          ...   \n",
       "409     3.610069\n",
       "423     3.435748\n",
       "417     4.269706\n",
       "586     3.586723\n",
       "619     4.029937\n",
       "Name: charges, Length: 752, dtype: float64"
      ]
     },
     "execution_count": 215,
     "metadata": {},
     "output_type": "execute_result"
    }
   ],
   "source": [
    "y_train"
   ]
  },
  {
   "cell_type": "code",
   "execution_count": 222,
   "id": "15b4d0b9",
   "metadata": {},
   "outputs": [
    {
     "data": {
      "text/html": [
       "<div>\n",
       "<style scoped>\n",
       "    .dataframe tbody tr th:only-of-type {\n",
       "        vertical-align: middle;\n",
       "    }\n",
       "\n",
       "    .dataframe tbody tr th {\n",
       "        vertical-align: top;\n",
       "    }\n",
       "\n",
       "    .dataframe thead th {\n",
       "        text-align: right;\n",
       "    }\n",
       "</style>\n",
       "<table border=\"1\" class=\"dataframe\">\n",
       "  <thead>\n",
       "    <tr style=\"text-align: right;\">\n",
       "      <th></th>\n",
       "      <th>age</th>\n",
       "      <th>bmi</th>\n",
       "      <th>children</th>\n",
       "      <th>smoker</th>\n",
       "    </tr>\n",
       "  </thead>\n",
       "  <tbody>\n",
       "    <tr>\n",
       "      <th>764</th>\n",
       "      <td>0.412467</td>\n",
       "      <td>-0.874902</td>\n",
       "      <td>0.751079</td>\n",
       "      <td>-0.507463</td>\n",
       "    </tr>\n",
       "    <tr>\n",
       "      <th>887</th>\n",
       "      <td>-0.228344</td>\n",
       "      <td>-0.005345</td>\n",
       "      <td>-0.908614</td>\n",
       "      <td>-0.507463</td>\n",
       "    </tr>\n",
       "    <tr>\n",
       "      <th>890</th>\n",
       "      <td>1.765289</td>\n",
       "      <td>-0.550239</td>\n",
       "      <td>-0.908614</td>\n",
       "      <td>1.970587</td>\n",
       "    </tr>\n",
       "    <tr>\n",
       "      <th>1293</th>\n",
       "      <td>0.483668</td>\n",
       "      <td>-0.764293</td>\n",
       "      <td>1.580926</td>\n",
       "      <td>-0.507463</td>\n",
       "    </tr>\n",
       "    <tr>\n",
       "      <th>259</th>\n",
       "      <td>-1.438764</td>\n",
       "      <td>0.297837</td>\n",
       "      <td>-0.908614</td>\n",
       "      <td>1.970587</td>\n",
       "    </tr>\n",
       "    <tr>\n",
       "      <th>...</th>\n",
       "      <td>...</td>\n",
       "      <td>...</td>\n",
       "      <td>...</td>\n",
       "      <td>...</td>\n",
       "    </tr>\n",
       "    <tr>\n",
       "      <th>342</th>\n",
       "      <td>1.480485</td>\n",
       "      <td>-0.429527</td>\n",
       "      <td>-0.908614</td>\n",
       "      <td>-0.507463</td>\n",
       "    </tr>\n",
       "    <tr>\n",
       "      <th>308</th>\n",
       "      <td>1.338082</td>\n",
       "      <td>0.733823</td>\n",
       "      <td>-0.908614</td>\n",
       "      <td>-0.507463</td>\n",
       "    </tr>\n",
       "    <tr>\n",
       "      <th>1128</th>\n",
       "      <td>-0.370746</td>\n",
       "      <td>0.432192</td>\n",
       "      <td>-0.078767</td>\n",
       "      <td>-0.507463</td>\n",
       "    </tr>\n",
       "    <tr>\n",
       "      <th>503</th>\n",
       "      <td>-1.438764</td>\n",
       "      <td>0.032361</td>\n",
       "      <td>-0.908614</td>\n",
       "      <td>1.970587</td>\n",
       "    </tr>\n",
       "    <tr>\n",
       "      <th>1197</th>\n",
       "      <td>0.127662</td>\n",
       "      <td>0.543885</td>\n",
       "      <td>-0.908614</td>\n",
       "      <td>-0.507463</td>\n",
       "    </tr>\n",
       "  </tbody>\n",
       "</table>\n",
       "<p>335 rows × 4 columns</p>\n",
       "</div>"
      ],
      "text/plain": [
       "           age       bmi  children    smoker\n",
       "764   0.412467 -0.874902  0.751079 -0.507463\n",
       "887  -0.228344 -0.005345 -0.908614 -0.507463\n",
       "890   1.765289 -0.550239 -0.908614  1.970587\n",
       "1293  0.483668 -0.764293  1.580926 -0.507463\n",
       "259  -1.438764  0.297837 -0.908614  1.970587\n",
       "...        ...       ...       ...       ...\n",
       "342   1.480485 -0.429527 -0.908614 -0.507463\n",
       "308   1.338082  0.733823 -0.908614 -0.507463\n",
       "1128 -0.370746  0.432192 -0.078767 -0.507463\n",
       "503  -1.438764  0.032361 -0.908614  1.970587\n",
       "1197  0.127662  0.543885 -0.908614 -0.507463\n",
       "\n",
       "[335 rows x 4 columns]"
      ]
     },
     "execution_count": 222,
     "metadata": {},
     "output_type": "execute_result"
    }
   ],
   "source": [
    "X_test"
   ]
  },
  {
   "cell_type": "code",
   "execution_count": 249,
   "id": "aba9131d",
   "metadata": {},
   "outputs": [
    {
     "name": "stdout",
     "output_type": "stream",
     "text": [
      "8/8 [==============================] - 0s 1ms/step\n"
     ]
    }
   ],
   "source": [
    "y_pred_mlp = model_mlp.predict(np.array(X_val))"
   ]
  },
  {
   "cell_type": "code",
   "execution_count": 255,
   "id": "131e22d6",
   "metadata": {},
   "outputs": [
    {
     "name": "stdout",
     "output_type": "stream",
     "text": [
      "24/24 [==============================] - 0s 1ms/step\n"
     ]
    }
   ],
   "source": [
    "y_pred_mlp_train = model_mlp.predict(np.array(X_train))"
   ]
  },
  {
   "cell_type": "code",
   "execution_count": 256,
   "id": "5dcde37a",
   "metadata": {},
   "outputs": [
    {
     "data": {
      "image/png": "[encoded data removed]",
      "text/plain": [
       "<Figure size 432x288 with 1 Axes>"
      ]
     },
     "metadata": {
      "needs_background": "light"
     },
     "output_type": "display_data"
    }
   ],
   "source": [
    "plt.plot(y_val, y_pred_mlp, 'b.', alpha=0.5);"
   ]
  },
  {
   "cell_type": "code",
   "execution_count": 260,
   "id": "f5197404",
   "metadata": {},
   "outputs": [],
   "source": [
    "from sklearn.metrics import r2_score"
   ]
  },
  {
   "cell_type": "code",
   "execution_count": 261,
   "id": "1ef6092c",
   "metadata": {},
   "outputs": [
    {
     "data": {
      "text/plain": [
       "0.8031174390189664"
      ]
     },
     "execution_count": 261,
     "metadata": {},
     "output_type": "execute_result"
    }
   ],
   "source": [
    "r2_score(y_val, y_pred_mlp)"
   ]
  },
  {
   "cell_type": "code",
   "execution_count": 262,
   "id": "686d2e28",
   "metadata": {},
   "outputs": [
    {
     "data": {
      "text/plain": [
       "0.8259954129950446"
      ]
     },
     "execution_count": 262,
     "metadata": {},
     "output_type": "execute_result"
    }
   ],
   "source": [
    "r2_score(y_train, y_pred_mlp_train)"
   ]
  },
  {
   "cell_type": "markdown",
   "id": "816cffca",
   "metadata": {},
   "source": [
    "### True values"
   ]
  },
  {
   "cell_type": "code",
   "execution_count": 263,
   "id": "69173ba3",
   "metadata": {},
   "outputs": [],
   "source": [
    "y_pred_mlp_true = 10 ** y_pred_mlp"
   ]
  },
  {
   "cell_type": "code",
   "execution_count": 264,
   "id": "17b8071c",
   "metadata": {},
   "outputs": [],
   "source": [
    "y_val_mlp_true = 10 ** np.array(y_val).reshape(-1, 1)"
   ]
  },
  {
   "cell_type": "code",
   "execution_count": 267,
   "id": "a8ca1eb4",
   "metadata": {},
   "outputs": [
    {
     "data": {
      "text/plain": [
       "0.8058141167864801"
      ]
     },
     "execution_count": 267,
     "metadata": {},
     "output_type": "execute_result"
    }
   ],
   "source": [
    "r2_score(y_val_mlp_true, y_pred_mlp_true)"
   ]
  },
  {
   "cell_type": "code",
   "execution_count": 268,
   "id": "7f957bb4",
   "metadata": {},
   "outputs": [
    {
     "data": {
      "image/png": "[encoded data removed]",
      "text/plain": [
       "<Figure size 432x288 with 1 Axes>"
      ]
     },
     "metadata": {
      "needs_background": "light"
     },
     "output_type": "display_data"
    }
   ],
   "source": [
    "plt.plot(y_val_mlp_true, y_pred_mlp_true - y_val_mlp_true, 'b.', alpha=0.5);"
   ]
  },
  {
   "cell_type": "markdown",
   "id": "237701f5",
   "metadata": {},
   "source": [
    "# Conclusões preliminares"
   ]
  },
  {
   "cell_type": "markdown",
   "id": "bd560d5f",
   "metadata": {},
   "source": [
    "1) A partir da análise que fizemos é possível identificar alguns pontos cruciais a respeito dos dados. Em primeiro lugar, na nossa análise exploratória, é possível identificar um forte correlação entre o fato da pessoa fumar e o quanto a pessoa gasta em seu custo médico.\n",
    "\n",
    "2) Além disso, utilizamos alguns modelos de ML para tentar predizer valores de custo dada as features. "
   ]
  },
  {
   "cell_type": "code",
   "execution_count": null,
   "id": "19f3a314",
   "metadata": {},
   "outputs": [],
   "source": []
  }
 ],
 "metadata": {
  "kernelspec": {
   "display_name": "Python 3 (ipykernel)",
   "language": "python",
   "name": "python3"
  },
  "language_info": {
   "codemirror_mode": {
    "name": "ipython",
    "version": 3
   },
   "file_extension": ".py",
   "mimetype": "text/x-python",
   "name": "python",
   "nbconvert_exporter": "python",
   "pygments_lexer": "ipython3",
   "version": "3.9.12"
  }
 },
 "nbformat": 4,
 "nbformat_minor": 5
}
